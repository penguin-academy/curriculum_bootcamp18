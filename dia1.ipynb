{
 "cells": [
  {
   "cell_type": "markdown",
   "metadata": {},
   "source": [
    "MI primer Hello World/Hola Mundo"
   ]
  },
  {
   "cell_type": "code",
   "execution_count": 1,
   "metadata": {},
   "outputs": [
    {
     "name": "stdout",
     "output_type": "stream",
     "text": [
      "hola mundo!\n"
     ]
    }
   ],
   "source": [
    "print(\"hola mundo!\")"
   ]
  },
  {
   "cell_type": "markdown",
   "metadata": {},
   "source": [
    "Variables"
   ]
  },
  {
   "cell_type": "code",
   "execution_count": 1,
   "metadata": {},
   "outputs": [
    {
     "name": "stdout",
     "output_type": "stream",
     "text": [
      "Ana\n",
      "manzana\n"
     ]
    }
   ],
   "source": [
    "nombre = \"Ana\" # Definimos la variable\n",
    "print(nombre) # Imprimimos la variable\n",
    "fruta = \"manzana\"\n",
    "print(fruta)"
   ]
  },
  {
   "cell_type": "markdown",
   "metadata": {},
   "source": [
    "Tipos de Datos"
   ]
  },
  {
   "cell_type": "code",
   "execution_count": null,
   "metadata": {},
   "outputs": [],
   "source": [
    "numero = 8 # Numero Entero/ Integer/ int\n",
    "numero_decimal = 3.99 # Numero decimal/ Floating/ float\n",
    "texto = \"hola buenos dias\" # Texto/ strings/ str\n",
    "booleano = False # Booleano/ bool"
   ]
  },
  {
   "cell_type": "markdown",
   "metadata": {},
   "source": [
    "Orden de Ejecucion"
   ]
  },
  {
   "cell_type": "code",
   "execution_count": 6,
   "metadata": {},
   "outputs": [
    {
     "name": "stdout",
     "output_type": "stream",
     "text": [
      "britez\n",
      "Casaccia\n"
     ]
    }
   ],
   "source": [
    "apellido = \"britez\" #definiendo una variable\n",
    "print(apellido)\n",
    "\n",
    "apellido = \"Casaccia\" # redefiniendo mi variable\n",
    "print(apellido)\n",
    "\n",
    "saludo = 'buen dia'\n",
    "otro_saludo = \"hola que tal\""
   ]
  },
  {
   "cell_type": "code",
   "execution_count": 12,
   "metadata": {},
   "outputs": [
    {
     "name": "stdout",
     "output_type": "stream",
     "text": [
      "8000\n",
      "50000\n",
      "25000.0\n",
      "9.0\n"
     ]
    }
   ],
   "source": [
    "precio_total = 7000 + 2000 #suma\n",
    "total_con_descuento = precio_total - 1000 # resta\n",
    "print(total_con_descuento)\n",
    "#multiplicacion\n",
    "precio_gaseosa = 10000\n",
    "cantidad = 5\n",
    "total_de_compra = precio_gaseosa * cantidad\n",
    "print(total_de_compra)\n",
    "\n",
    "#Divisiones\n",
    "cantidad_de_personas = 2\n",
    "vaquita = total_de_compra / cantidad_de_personas\n",
    "print(vaquita)\n",
    "\n",
    "#Regla de precedencia de operaciones\n",
    "print(2 * 2 + 12 / 2 - 1)"
   ]
  },
  {
   "cell_type": "markdown",
   "metadata": {},
   "source": [
    "## Challenge 🤺 - 15m\n",
    "\n",
    "Suma: asignar dos números en dos variables diferentes `cantidad_de_manzanas` y `cantidad_de_naranjas`. Luego sumar ambas variables en `cantidad_de_frutas`. Imprimir la última variable.\n",
    "\n",
    "Resta: asignar un valor numérico a la variable `frutas_vendidas`. Luego, asignar la resta entre `cantidad_de_frutas` y `frutas_vendidas` a la variable `frutas_restantes`. Imprimir la última variable."
   ]
  },
  {
   "cell_type": "markdown",
   "metadata": {},
   "source": [
    "## Solucion de Ivan :)"
   ]
  },
  {
   "cell_type": "code",
   "execution_count": null,
   "metadata": {},
   "outputs": [],
   "source": [
    "cantidad_de_manzanas = 5 #asignar valores\n",
    "cantidad_de_naranjas = 10 #asignar valores\n",
    "cantidad_de_frutas = cantidad_de_manzanas + cantidad_de_naranjas #suma de las variables\n",
    "print(cantidad_de_frutas) #imprimir el resultado"
   ]
  },
  {
   "cell_type": "code",
   "execution_count": null,
   "metadata": {},
   "outputs": [],
   "source": [
    "#SEGUNDO CHALLENGE\n",
    "\n",
    "frutas_vendidas = 5 #Asignar valores numericos\n",
    "frutas_restantes= cantidad_de_frutas - frutas_vendidas # Crear una nueva variable y asignarle la resta de otras\n",
    "print(frutas_restantes) #imprimir resultado"
   ]
  },
  {
   "cell_type": "markdown",
   "metadata": {},
   "source": [
    "## Solucion de Sam :)"
   ]
  },
  {
   "cell_type": "code",
   "execution_count": 13,
   "metadata": {},
   "outputs": [
    {
     "name": "stdout",
     "output_type": "stream",
     "text": [
      "35\n",
      "17\n"
     ]
    }
   ],
   "source": [
    "cantidad_de_manzanas = 15 \n",
    "cantidad_de_naranjas = 20\n",
    "cantidad_de_frutas = cantidad_de_manzanas + cantidad_de_naranjas\n",
    "print(cantidad_de_frutas)\n",
    "frutas_vendidas = 18 \n",
    "frutas_restantes = cantidad_de_frutas - frutas_vendidas\n",
    "print(frutas_restantes)"
   ]
  },
  {
   "cell_type": "markdown",
   "metadata": {},
   "source": [
    "### Concatenacion"
   ]
  },
  {
   "cell_type": "code",
   "execution_count": 17,
   "metadata": {},
   "outputs": [
    {
     "name": "stdout",
     "output_type": "stream",
     "text": [
      "JoseAveiro\n",
      "Jose Aveiro\n",
      "hola, mi nombre es Jose Aveiro\n",
      "hola, mi nombre es Jose Aveiro\n"
     ]
    }
   ],
   "source": [
    "nombre = \"Jose\"\n",
    "apellido = \"Aveiro\"\n",
    "\n",
    "print(nombre + apellido)\n",
    "print(nombre + ' ' + apellido)\n",
    "#presentacion\n",
    "print(\"hola, mi nombre es \" + nombre + \" \" + apellido)\n",
    "\n",
    "print(f\"hola, mi nombre es {nombre} {apellido}\")"
   ]
  },
  {
   "cell_type": "markdown",
   "metadata": {},
   "source": [
    "## Challenge 🤺 - 15m\n",
    "\n",
    "Asignar el nombre y el apellido de tu compañera/o a las variables nombre y apellido. Luego, imprimir una frase, utilizando las variables.\n",
    "EJEMPLO: \"Hola. Me llamo Claudia Melgarejo. Mucho gusto.\""
   ]
  },
  {
   "cell_type": "markdown",
   "metadata": {},
   "source": [
    "## Solucion  de Ruben :)"
   ]
  },
  {
   "cell_type": "code",
   "execution_count": 18,
   "metadata": {},
   "outputs": [
    {
     "name": "stdout",
     "output_type": "stream",
     "text": [
      "Hola, me llamo  Franco  Monferrato. MUCHO GUSTO.\n"
     ]
    }
   ],
   "source": [
    "#SEGUNDO CHALLENGE\n",
    "nombre = \"Franco\"\n",
    "apellido = \"Monferrato\"\n",
    "print(f\"Hola, me llamo  {nombre}  {apellido}. MUCHO GUSTO.\")"
   ]
  },
  {
   "cell_type": "markdown",
   "metadata": {},
   "source": [
    "## Solucion de Diana :)"
   ]
  },
  {
   "cell_type": "code",
   "execution_count": 19,
   "metadata": {},
   "outputs": [
    {
     "name": "stdout",
     "output_type": "stream",
     "text": [
      "Hola. Me llamo Monica Sanabria. Mucho gusto.\n"
     ]
    }
   ],
   "source": [
    "nombre = \"Monica\" \n",
    "apellido = \"Sanabria\" \n",
    "print(f\"Hola. Me llamo {nombre} {apellido}. Mucho gusto.\")"
   ]
  },
  {
   "cell_type": "markdown",
   "metadata": {},
   "source": [
    "## Input"
   ]
  },
  {
   "cell_type": "code",
   "execution_count": 29,
   "metadata": {},
   "outputs": [
    {
     "name": "stdout",
     "output_type": "stream",
     "text": [
      "1998\n",
      "hola mi nombre es 1998\n",
      "<class 'str'>\n"
     ]
    }
   ],
   "source": [
    "un_nombre = input(\"cual es tu nombre?\")\n",
    "print(un_nombre)\n",
    "\n",
    "print(f\"hola mi nombre es {un_nombre}\")\n",
    "print(type(un_nombre))"
   ]
  },
  {
   "cell_type": "markdown",
   "metadata": {},
   "source": [
    "# Tipos de datos"
   ]
  },
  {
   "cell_type": "code",
   "execution_count": 27,
   "metadata": {},
   "outputs": [
    {
     "name": "stdout",
     "output_type": "stream",
     "text": [
      "<class 'str'>\n",
      "<class 'float'>\n"
     ]
    }
   ],
   "source": [
    "print(type(nombre))\n",
    "\n",
    "un_numero = 9.88\n",
    "print(type(un_numero))"
   ]
  },
  {
   "cell_type": "markdown",
   "metadata": {},
   "source": [
    "descubriendo la edad"
   ]
  },
  {
   "cell_type": "code",
   "execution_count": 32,
   "metadata": {},
   "outputs": [
    {
     "name": "stdout",
     "output_type": "stream",
     "text": [
      "26\n",
      "<class 'str'>\n",
      "<class 'int'>\n"
     ]
    }
   ],
   "source": [
    "anho = 2023\n",
    "anho_de_nacimiento = input(\"ingrese su anho de nacimiento\") # Obteniendo datos de mi usuario\n",
    "anho_de_nacimiento_nuevo = int(anho_de_nacimiento) # convitiendo mi dato a un integer\n",
    "\n",
    "print(anho - anho_de_nacimiento_nuevo)\n",
    "print(type(anho_de_nacimiento)) # visualizando tipo de dato\n",
    "print(type(anho_de_nacimiento_nuevo))"
   ]
  },
  {
   "cell_type": "markdown",
   "metadata": {},
   "source": [
    "### Challenge 🤺 - 15m\n",
    "\n",
    "Solicitar al usuario ingresar dos números y almacenarlos en dos variables. Luego, imprimir la suma de los dos números."
   ]
  },
  {
   "cell_type": "markdown",
   "metadata": {},
   "source": [
    "## Solucion de Renato :)"
   ]
  },
  {
   "cell_type": "code",
   "execution_count": 33,
   "metadata": {},
   "outputs": [
    {
     "name": "stdout",
     "output_type": "stream",
     "text": [
      "El resultado es: 10\n"
     ]
    }
   ],
   "source": [
    "#EJEMPLO 1\n",
    "numero1 = input(\"Ingrese el primer número\")     #solicitar el primer número\n",
    "numero2 = input(\"Ingrese el segundo número\")    #solicitar el segundo número\n",
    "num1 = int(numero1)      #convertir a entero el primer número\n",
    "num2 = int(numero2)      #convertir a entero el segundo número\n",
    "suma = num1 + num2   #realizar operación\n",
    "print(\"El resultado es:\",suma)  #mostrar resultado"
   ]
  },
  {
   "cell_type": "code",
   "execution_count": 34,
   "metadata": {},
   "outputs": [
    {
     "name": "stdout",
     "output_type": "stream",
     "text": [
      "El resultado es: 10\n"
     ]
    }
   ],
   "source": [
    "#EJEMPLO 2\n",
    "numero1 = int(input(\"Ingrese el primer número\"))     #solicitar el primer número\n",
    "numero2 = int(input(\"Ingrese el segundo número\"))    #solicitar el segundo númeroo\n",
    "print(\"El resultado es:\",num1 + num2)  #mostrar resultado"
   ]
  },
  {
   "cell_type": "markdown",
   "metadata": {},
   "source": [
    "## Solucion de Carlos :)"
   ]
  },
  {
   "cell_type": "code",
   "execution_count": 35,
   "metadata": {},
   "outputs": [
    {
     "name": "stdout",
     "output_type": "stream",
     "text": [
      "<class 'int'>\n",
      "<class 'int'>\n",
      "El primer numero ingresado es: 10\n",
      "El segundo numero ingresado es: 5\n",
      "La suma de los numeros es: 15\n"
     ]
    }
   ],
   "source": [
    "numun = int(input (\"ingrese un numero:\"))\n",
    "numdos = int(input (\"ingrese un numero:\"))\n",
    "suma = numun + numdos\n",
    "print (type (numun))\n",
    "print (type (numdos))\n",
    "print (f\"El primer numero ingresado es: {numun}\")\n",
    "print (f\"El segundo numero ingresado es: {numdos}\")\n",
    "print (f\"La suma de los numeros es: {suma}\")"
   ]
  },
  {
   "cell_type": "markdown",
   "metadata": {},
   "source": [
    "## Funciones"
   ]
  },
  {
   "cell_type": "code",
   "execution_count": 37,
   "metadata": {},
   "outputs": [
    {
     "name": "stdout",
     "output_type": "stream",
     "text": [
      "remojar la ropa\n",
      "Girar para empezar a lavar\n",
      "Enjuagar\n",
      "Centrifugar\n",
      "remojar la ropa\n",
      "Girar para empezar a lavar\n",
      "Enjuagar\n",
      "Centrifugar\n"
     ]
    }
   ],
   "source": [
    "def lavar_ropa(): # Nombramos nuestra funcion\n",
    "     # Aqui van los procesos de nuestra funcion\n",
    "     print(\"remojar la ropa\")\n",
    "     print(\"Girar para empezar a lavar\")\n",
    "     print(\"Enjuagar\")\n",
    "     print(\"Centrifugar\")\n",
    "\n",
    "# Encendemos la lavarropas\n",
    "lavar_ropa()\n",
    "lavar_ropa()"
   ]
  },
  {
   "cell_type": "code",
   "execution_count": 38,
   "metadata": {},
   "outputs": [
    {
     "name": "stdout",
     "output_type": "stream",
     "text": [
      "remojar la ropa\n",
      "Girar para empezar a lavar\n",
      "Enjuagar\n",
      "Centrifugar\n"
     ]
    }
   ],
   "source": [
    "lavar_ropa()"
   ]
  },
  {
   "cell_type": "markdown",
   "metadata": {},
   "source": [
    "## Challenge 🤺 - 15m\n",
    "\n",
    "Crear una función de un proceso que se les ocurra que tenga varios pasos.\n",
    "Ejecutar la función 3 veces."
   ]
  },
  {
   "cell_type": "markdown",
   "metadata": {},
   "source": [
    "## Solucion de Guille :)"
   ]
  },
  {
   "cell_type": "code",
   "execution_count": 39,
   "metadata": {},
   "outputs": [
    {
     "name": "stdout",
     "output_type": "stream",
     "text": [
      "Apoyar el celular por el lector\n",
      "la Maquina lee el qr\n",
      "se efectua la compra\n",
      "El comprobante\n",
      "Apoyar el celular por el lector\n",
      "la Maquina lee el qr\n",
      "se efectua la compra\n",
      "El comprobante\n",
      "Apoyar el celular por el lector\n",
      "la Maquina lee el qr\n",
      "se efectua la compra\n",
      "El comprobante\n"
     ]
    }
   ],
   "source": [
    "def pagar_con_qr(): #Nombrar la función \n",
    "    print(\"Apoyar el celular por el lector\")\n",
    "    print(\"la Maquina lee el qr\")\n",
    "    print(\"se efectua la compra\")\n",
    "    print(\"El comprobante\")\n",
    "    #todo el proceso hecho\n",
    "pagar_con_qr() #llamar ala funcion 3 veces\n",
    "pagar_con_qr()\n",
    "pagar_con_qr()\n",
    "#se ejecuto con éxito 🙂"
   ]
  },
  {
   "cell_type": "markdown",
   "metadata": {},
   "source": [
    "## Solucion de Camilo :)"
   ]
  },
  {
   "cell_type": "code",
   "execution_count": 40,
   "metadata": {},
   "outputs": [
    {
     "name": "stdout",
     "output_type": "stream",
     "text": [
      "mojar las manos\n",
      "aplicar jabon liquido\n",
      "exparsir jabon\n",
      "quitar jabon con agua\n",
      "mojar las manos\n",
      "aplicar jabon liquido\n",
      "exparsir jabon\n",
      "quitar jabon con agua\n",
      "mojar las manos\n",
      "aplicar jabon liquido\n",
      "exparsir jabon\n",
      "quitar jabon con agua\n"
     ]
    }
   ],
   "source": [
    "def lavado_de_manos():\n",
    "    print (\"mojar las manos\")\n",
    "    print (\"aplicar jabon liquido\")\n",
    "    print (\"exparsir jabon\")\n",
    "    print (\"quitar jabon con agua\")\n",
    "lavado_de_manos()\n",
    "lavado_de_manos()\n",
    "lavado_de_manos()"
   ]
  },
  {
   "cell_type": "markdown",
   "metadata": {},
   "source": [
    "## Parametros y Argumentos"
   ]
  },
  {
   "cell_type": "code",
   "execution_count": 2,
   "metadata": {},
   "outputs": [
    {
     "name": "stdout",
     "output_type": "stream",
     "text": [
      "quiero un lavarropas de la marca midas que cuesta 105000 y es apto para 10 kg\n",
      "quiero un lavarropas de la marca tokyo que cuesta 786000 y es apto para 9 kg\n",
      "quiero un lavarropas de la marca samsung que cuesta 897000 y es apto para 7 kg\n",
      "quiero un lavarropas de la marca tokyo que cuesta 90000 y es apto para 8 kg\n"
     ]
    }
   ],
   "source": [
    "def comprar_lavarropas(marca, precio, kg): # Definimos nuestra funcion y le asignamos un parametro\n",
    "    print(f\"quiero un lavarropas de la marca {marca} que cuesta {precio} y es apto para {kg} kg\")\n",
    "\n",
    "comprar_lavarropas(\"midas\",105000, 10) # Llamamos a la funcion y le pasamos un argumento\n",
    "comprar_lavarropas(\"tokyo\", 786000, 9)\n",
    "comprar_lavarropas(\"samsung\", 897000, 7)\n",
    "comprar_lavarropas(\"tokyo\",  90000, 8)\n"
   ]
  },
  {
   "cell_type": "markdown",
   "metadata": {},
   "source": [
    "## Challenge 🤺 - 15m\n",
    "\n",
    "Escribir una funcion que nos pregunte las caracteriticas de un elemento a comprar e imprima el elemento con sus caracteristicas."
   ]
  },
  {
   "cell_type": "markdown",
   "metadata": {},
   "source": [
    "## Solucion de Rodri :)\n"
   ]
  },
  {
   "cell_type": "code",
   "execution_count": 45,
   "metadata": {},
   "outputs": [
    {
     "name": "stdout",
     "output_type": "stream",
     "text": [
      "La compra de una corbata de algodon que cuesta 47000 guaranies y es de color negro.\n",
      "La compra de una corbata de sintetico que cuesta 28000 guaranies y es de color blanco.\n",
      "La compra de una corbata de tnt que cuesta 15000 guaranies y es de color verde.\n"
     ]
    }
   ],
   "source": [
    "def comprar_corbata(tipo, precio, color): #Definimos la funcion y los parametros necesarios\n",
    "    print(f\"La compra de una corbata de {tipo} que cuesta {precio} guaranies y es de color {color}.\") #Imprimimos una frase con parametros a completar\n",
    "\n",
    "comprar_corbata(\"algodon\", 47000, \"negro\") #Llamamos a la funcion con los parametros ya establecidos\n",
    "comprar_corbata(\"sintetico\", 28000, \"blanco\") #Llamamos a la funcion con distintos parametros ya establecidos\n",
    "comprar_corbata(\"tnt\", 15000, \"verde\") #Llamamos a la funcion con distintos parametros ya establecidos"
   ]
  },
  {
   "cell_type": "markdown",
   "metadata": {},
   "source": [
    "# Solucion de Gio :)"
   ]
  },
  {
   "cell_type": "code",
   "execution_count": 48,
   "metadata": {},
   "outputs": [
    {
     "name": "stdout",
     "output_type": "stream",
     "text": [
      "compre una impresora de la marca epson me costo 1000000 y los tanques aguantan hasta 5000 impresiones por recarga\n"
     ]
    }
   ],
   "source": [
    "def impresoras(marca, precio, durabilidad):\n",
    "    print(\"compre una impresora de la marca\" + \" \" + marca + \" \" + \"me costo\" + \" \" + precio + \" \" + \"y los tanques aguantan hasta\" + \" \" + durabilidad + \" \" + \"impresiones por recarga\")\n",
    "\n",
    "\n",
    "impresoras(\"epson\", \"1000000\", \"5000\")"
   ]
  },
  {
   "cell_type": "code",
   "execution_count": 49,
   "metadata": {},
   "outputs": [
    {
     "name": "stdout",
     "output_type": "stream",
     "text": [
      "hola\n"
     ]
    }
   ],
   "source": [
    "print(\"hola\")"
   ]
  },
  {
   "cell_type": "markdown",
   "metadata": {},
   "source": [
    "## Scope (Alcance)\n",
    "\n",
    "- Global Scope\n",
    "- Local Scope"
   ]
  },
  {
   "cell_type": "code",
   "execution_count": 54,
   "metadata": {},
   "outputs": [
    {
     "name": "stdout",
     "output_type": "stream",
     "text": [
      "mi lavarropas es de 8 kg\n",
      "9\n",
      "8\n"
     ]
    }
   ],
   "source": [
    "# kg de mi lavarropas\n",
    "kg = 8 # Glogal Scope\n",
    "\n",
    "def kg_lavarropas():\n",
    "    numero = 9\n",
    "    print(f\"mi lavarropas es de {kg} kg\")\n",
    "    print(numero)\n",
    "\n",
    "kg_lavarropas()\n",
    "print(kg)"
   ]
  },
  {
   "cell_type": "markdown",
   "metadata": {},
   "source": [
    "# Operadores de Comparacion \n",
    "\n",
    "- Menor que: <\n",
    "- Mayor que: >\n",
    "- Igual que: ==\n",
    "- Diferente que: !=\n",
    "- Menor o igual que: <=\n",
    "- Mayor o igual que: >="
   ]
  },
  {
   "cell_type": "code",
   "execution_count": 59,
   "metadata": {},
   "outputs": [
    {
     "name": "stdout",
     "output_type": "stream",
     "text": [
      "True\n",
      "<class 'bool'>\n"
     ]
    }
   ],
   "source": [
    "primer_numero = 10\n",
    "segundo_numero = 10\n",
    "\n",
    "menor_que = primer_numero <= segundo_numero\n",
    "print(menor_que)\n",
    "print(type(menor_que))"
   ]
  },
  {
   "cell_type": "markdown",
   "metadata": {},
   "source": [
    "## Condicionales"
   ]
  },
  {
   "cell_type": "code",
   "execution_count": 61,
   "metadata": {},
   "outputs": [
    {
     "name": "stdout",
     "output_type": "stream",
     "text": [
      "podes pasar\n"
     ]
    }
   ],
   "source": [
    "edad = 21\n",
    "\n",
    "if edad < 18: # si la edad es menor a 18\n",
    "    print(\"andate a tu casa\") # imprimir este mensaje\n",
    "else: # si no se cumple la condicion anterior\n",
    "    print(\"podes pasar\") # imprimir este mensaje\n"
   ]
  },
  {
   "cell_type": "code",
   "execution_count": 64,
   "metadata": {},
   "outputs": [
    {
     "name": "stdout",
     "output_type": "stream",
     "text": [
      "Jubilado\n"
     ]
    }
   ],
   "source": [
    "edad_laboral = 16 # edad de la persona\n",
    "\n",
    "if edad_laboral < 18: # si es menor\n",
    "    print(\"inactivo laboralmente\")\n",
    "elif edad_laboral > 65: # jubilado\n",
    "    print(\"Jubilado\")\n",
    "else: # no se cumple ninguna opcion anterior\n",
    "    print(\"Activo laboralmente\")"
   ]
  },
  {
   "cell_type": "markdown",
   "metadata": {},
   "source": [
    "# Dos condiciones a la vez "
   ]
  },
  {
   "cell_type": "code",
   "execution_count": null,
   "metadata": {},
   "outputs": [],
   "source": [
    "edad_laboral = 70\n",
    "trabaja = False\n",
    "\n",
    "if edad_laboral < 18: \n",
    "    print('Estudiante menor de edad')\n",
    "elif edad_laboral < 65 and trabaja == True:\n",
    "    print('Activo laboralmente')\n",
    "elif edad_laboral < 65 and trabaja == False:\n",
    "    print('Estudiante')\n",
    "else:\n",
    "    print('Jubilado')"
   ]
  },
  {
   "cell_type": "markdown",
   "metadata": {},
   "source": [
    "### Challenge 🤺 - 20m\n",
    "\n",
    "Escribir un programa en el que se pregunte al usuario por una temperatura (en grados Celsius), imprima la temperatura escrita, y luego clasificar la temperatura ingresada en los siguientes niveles:\n",
    "\n",
    "Entre -10 y 18 grados, que imprima \"Fresquete\".\n",
    "Entre 19 y 30 grados, que imprima \"Calor'i\".\n",
    "Entre 31 y 45 grados, que imprima \"Hakuuuuuu\".\n",
    "Para todo lo demás, imprimir \"Ñamano mba'e!\"."
   ]
  }
 ],
 "metadata": {
  "kernelspec": {
   "display_name": "Python 3",
   "language": "python",
   "name": "python3"
  },
  "language_info": {
   "codemirror_mode": {
    "name": "ipython",
    "version": 3
   },
   "file_extension": ".py",
   "mimetype": "text/x-python",
   "name": "python",
   "nbconvert_exporter": "python",
   "pygments_lexer": "ipython3",
   "version": "3.10.8"
  },
  "orig_nbformat": 4
 },
 "nbformat": 4,
 "nbformat_minor": 2
}
