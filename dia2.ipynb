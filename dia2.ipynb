{
 "cells": [
  {
   "cell_type": "markdown",
   "metadata": {},
   "source": [
    "### Challenge 🤺 - 20m\n",
    "\n",
    "Escribir un programa en el que se pregunte al usuario por una temperatura (en grados Celsius), imprima la temperatura escrita, y luego clasificar la temperatura ingresada en los siguientes niveles:\n",
    "\n",
    "Entre -10 y 18 grados, que imprima \"Fresquete\".\n",
    "Entre 19 y 30 grados, que imprima \"Calor'i\".\n",
    "Entre 31 y 45 grados, que imprima \"Hakuuuuuu\".\n",
    "Para todo lo demás, imprimir \"Ñamano mba'e!\"."
   ]
  },
  {
   "cell_type": "code",
   "execution_count": 8,
   "metadata": {},
   "outputs": [
    {
     "name": "stdout",
     "output_type": "stream",
     "text": [
      "50\n",
      "Nhamano mba'e\n"
     ]
    }
   ],
   "source": [
    "# Preguntar al usuario por una temperatura (Input)\n",
    "tiempo_hoy = int(input(\"Escibe la temp de hoy en C\"))\n",
    "\n",
    "# Imprimir temperatura (Print)\n",
    "print(tiempo_hoy)\n",
    "\n",
    "#Clasificar la temperatura (Condicionales)\n",
    "# si la temp del usuario es mayor/igual a -10 y menor/igual a 18, imprimir fresquete\n",
    "if tiempo_hoy >= -10 and tiempo_hoy <= 18:\n",
    "    print(\"Fresquete\")\n",
    "# si la temp del usuario es mayor/igual a 19 y menor/igual a 30\n",
    "elif tiempo_hoy >= 19 and tiempo_hoy <= 30:\n",
    "    print(\"Calor'i\")\n",
    "# si la temp del usuario es mayor/igual a 31 y menor/igual a 45\n",
    "elif tiempo_hoy >= 31 and tiempo_hoy <= 45:\n",
    "    print(\"Hakuuuu\")\n",
    "# si no se cumple ninguna condicion anterior\n",
    "else:\n",
    "    print(\"Nhamano mba'e\")"
   ]
  },
  {
   "cell_type": "markdown",
   "metadata": {},
   "source": [
    "### Challenge 🤺 - 15m\n",
    "\n",
    "Escribir un programa que almacene una contraseña en una variable, pregunte al usuario por la contraseña e imprima por pantalla si la contraseña introducida por el usuario coincide con la guardada en la variable."
   ]
  },
  {
   "cell_type": "markdown",
   "metadata": {},
   "source": [
    "## Solucion de Guillermo :)"
   ]
  },
  {
   "cell_type": "code",
   "execution_count": 11,
   "metadata": {},
   "outputs": [
    {
     "name": "stdout",
     "output_type": "stream",
     "text": [
      "La contraseña es incorrecta\n"
     ]
    }
   ],
   "source": [
    "contraseña_guardada = \"Challenge\" #ingrese la contraseña guardada\n",
    "contraseña_usuario = input(\"Ingrese la contraseña correcta\") #El usuario ingresa su contraseña\n",
    "if contraseña_guardada==contraseña_usuario: #si se cumple que contra guardada y contra usuario son iguales\n",
    "    print(\"La contraseña es correcta\") #la contraseña es correcta\n",
    "else: \n",
    "    print(\"La contraseña es incorrecta\") #Sino la contraseña es incorrecta"
   ]
  },
  {
   "cell_type": "markdown",
   "metadata": {},
   "source": [
    "## Solucion de Sam :)\n"
   ]
  },
  {
   "cell_type": "code",
   "execution_count": 13,
   "metadata": {},
   "outputs": [
    {
     "name": "stdout",
     "output_type": "stream",
     "text": [
      "acceso denegado\n"
     ]
    }
   ],
   "source": [
    "contraseña = \"vorivoriconpollo\"\n",
    "contraseña_ingresada = input(\"Ingrese la contraseña\")\n",
    "if contraseña == contraseña_ingresada:\n",
    "    print(\"acceso permitido\")\n",
    "else:\n",
    "    print(\"acceso denegado\")"
   ]
  },
  {
   "cell_type": "markdown",
   "metadata": {},
   "source": [
    "## Bucles condicionales"
   ]
  },
  {
   "cell_type": "code",
   "execution_count": 3,
   "metadata": {},
   "outputs": [
    {
     "name": "stdout",
     "output_type": "stream",
     "text": [
      "15\n",
      "numero incorrecto, vuelva a ingresar\n",
      "numero correcto!!\n"
     ]
    }
   ],
   "source": [
    "# while\n",
    "\n",
    "numero_a_adivinar = 15 #Definimos un numero a adivinar\n",
    "numero = 0 # darle un valor a la variable numero\n",
    "\n",
    "while numero != numero_a_adivinar: # mientras numero sea diferente a numero a adivinar ejecutar la siguiente instruccion:\n",
    "    numero = int(input(\"Ingrese el numero correcto\")) # pedirt numero al usuario\n",
    "    print(numero) #imprimir el numero\n",
    "    print(\"numero incorrecto, vuelva a ingresar\") # imprimimos un mensaje\n",
    "\n",
    "print(\"numero correcto!!\") # termina el ciclo e imprimimos el"
   ]
  },
  {
   "cell_type": "code",
   "execution_count": 6,
   "metadata": {},
   "outputs": [
    {
     "name": "stdout",
     "output_type": "stream",
     "text": [
      "acceso permitido\n"
     ]
    }
   ],
   "source": [
    "contraseña = \"vorivoriconpollo\"\n",
    "contraseña_ingresada = input(\"Ingrese la contraseña\")\n",
    "\n",
    "while contraseña_ingresada != contraseña:\n",
    "    contraseña_ingresada = input(\"Ingrese la contraseña\")\n",
    "    print(\"acceso denegado\")\n",
    "\n",
    "print(\"acceso permitido\")"
   ]
  },
  {
   "cell_type": "markdown",
   "metadata": {},
   "source": [
    "## Bucles Infinitos"
   ]
  },
  {
   "cell_type": "code",
   "execution_count": 7,
   "metadata": {},
   "outputs": [
    {
     "name": "stdout",
     "output_type": "stream",
     "text": [
      "El numero es incorrecto\n",
      "El numero es incorrecto\n",
      "EL numero es correcto\n"
     ]
    }
   ],
   "source": [
    "numero_a_adivinar = 15\n",
    "\n",
    "while True:\n",
    "    numero_ingresado = int(input(\"INgrese un numero\"))\n",
    "    if numero_ingresado == numero_a_adivinar:\n",
    "        print(\"EL numero es correcto\")\n",
    "        break\n",
    "    else:\n",
    "        print(\"El numero es incorrecto\")"
   ]
  },
  {
   "cell_type": "markdown",
   "metadata": {},
   "source": [
    "### Challenge 🤺 - 15m\n",
    "Escribir un programa que almacene una contraseña en una variable, y pregunte al usuario por la contraseña hasta que introduzca la contraseña correcta.\n",
    "\n",
    "Cuando el usuario ingrese la contrasena correcta, imprimir un mensaje secreto."
   ]
  },
  {
   "cell_type": "markdown",
   "metadata": {},
   "source": [
    "## Solucion de Ivan :)"
   ]
  },
  {
   "cell_type": "code",
   "execution_count": 2,
   "metadata": {},
   "outputs": [
    {
     "name": "stdout",
     "output_type": "stream",
     "text": [
      " La contrasenha ingresada es incorrecta\n",
      " La contrasenha ingresada es incorrecta\n",
      "la contrasenha ingresada es la correcta \n"
     ]
    }
   ],
   "source": [
    "contrasenha_correcta = \"penguin\" # se define la contrasenha correcta \n",
    "contrasenha_ingresada = 0  #se define un valor inicial a la contrasenha ingresada para que pueda entrar al while\n",
    "while contrasenha_ingresada != contrasenha_correcta:  #siempre que la contrasenha ingresada sea diferente a la correcta, ingresa al bucle\n",
    "    contrasenha_ingresada = input(\"Favor ingrese la contrasenha\")  # se redefine la contrasenha ingresada, debido a que se le solicita al usuario\n",
    "    if contrasenha_ingresada != contrasenha_correcta:\n",
    "        print(\" La contrasenha ingresada es incorrecta\")\n",
    "print(\"la contrasenha ingresada es la correcta \")"
   ]
  },
  {
   "cell_type": "markdown",
   "metadata": {},
   "source": [
    "## Solucion de Naye :)"
   ]
  },
  {
   "cell_type": "code",
   "execution_count": 3,
   "metadata": {},
   "outputs": [
    {
     "name": "stdout",
     "output_type": "stream",
     "text": [
      "vuelva a intentar\n",
      "lo lograste\n"
     ]
    }
   ],
   "source": [
    "contrasena_secreta= \"Ailen\"#contrasena a adivinar\n",
    "contrasena_usuario= input(\"ingrese la contrasena correcta\")#ingresamos la contrasena\n",
    "\n",
    "while contrasena_secreta != contrasena_usuario:#mientras secreto sea diferente a usuario repite el bucle\n",
    "    print (\"vuelva a intentar\")#mostramos al usuario que es incorrecto\n",
    "    contrasena_usuario= input (\"ingrese de nuevo\")#usuario vuelve a ingresar la contrasena\n",
    "print (\"lo lograste\")  # salimos del bucle por que el usuario acerto la contrasena"
   ]
  },
  {
   "cell_type": "markdown",
   "metadata": {},
   "source": [
    "## Listas"
   ]
  },
  {
   "cell_type": "code",
   "execution_count": 16,
   "metadata": {},
   "outputs": [
    {
     "name": "stdout",
     "output_type": "stream",
     "text": [
      "['naranja', 'pera', 'frutilla', 'sandia']\n",
      "pera\n",
      "sandia\n",
      "naranja\n",
      "['naranja', 'pera', 'frutilla', 'sandia', 'kiwis']\n",
      "['naranja', 'mango', 'frutilla', 'sandia', 'kiwis']\n",
      "['naranja', 'mango', 'sandia', 'kiwis']\n",
      "['naranja', 'sandia', 'kiwis']\n",
      "la cantidad de la lista 4\n",
      "3\n"
     ]
    }
   ],
   "source": [
    "lista_frutas = [\"naranja\", \"pera\", \"frutilla\", \"sandia\"]\n",
    "print(lista_frutas)\n",
    "\n",
    "#Diferentes tipos de datos \n",
    "lista_bool = [True, False, True, False]\n",
    "lista_num = [1, 5, 6, 8]\n",
    "lista_variada = [\"peras\", 10, True]\n",
    "\n",
    "# Acceder a elementos de una lista\n",
    "print(lista_frutas[1]) # accedemos a los elementos por su indice\n",
    "print(lista_frutas[3])\n",
    "print(lista_frutas[0])\n",
    "\n",
    "#Anhadir un elemento a la lista\n",
    "lista_frutas.append(\"kiwis\")\n",
    "print(lista_frutas)\n",
    "\n",
    "#Modificar un elemento\n",
    "lista_frutas[1] = \"mango\"\n",
    "print(lista_frutas)\n",
    "\n",
    "# Eliminar un elemento de la lista por su valor\n",
    "lista_frutas.remove(\"frutilla\")\n",
    "print(lista_frutas)\n",
    "\n",
    "# ELiminar un elemento por su posicion\n",
    "lista_frutas.pop(1)\n",
    "print(lista_frutas)\n",
    "\n",
    "# Contar elementos de una lista\n",
    "cantidad_de_elementos = len(lista_bool)\n",
    "print(f\"la cantidad de la lista {cantidad_de_elementos}\")\n",
    "print(len(lista_variada))"
   ]
  },
  {
   "cell_type": "markdown",
   "metadata": {},
   "source": [
    "### Challenge 🤺 - 20m\n",
    "\n",
    "Crear una lista de 5 elementos. Luego, seguir los siguientes pasos.\n",
    "\n",
    "- Agregar un elemento al final de la lista.\n",
    "\n",
    "- Modificar el segundo elemento.\n",
    "\n",
    "- Eliminar el tercer elemento."
   ]
  },
  {
   "cell_type": "markdown",
   "metadata": {},
   "source": [
    "## Solucion de Monica :)"
   ]
  },
  {
   "cell_type": "code",
   "execution_count": 17,
   "metadata": {},
   "outputs": [
    {
     "name": "stdout",
     "output_type": "stream",
     "text": [
      "['Ana', 'Pedro', 'Maria', 'Belen', 'Fran', 'luz']\n",
      "['Ana', 'Miguel', 'Maria', 'Belen', 'Fran', 'luz']\n",
      "['Ana', 'Miguel', 'Belen', 'Fran', 'luz']\n",
      "5\n"
     ]
    }
   ],
   "source": [
    "lista_alumnos = [\"Ana\", \"Pedro\", \"Maria\", \"Belen\",\"Fran\"]    #solo se identifica como lista al utilizar corchete\n",
    "\n",
    "#agrerar otro elemento al final\n",
    "lista_alumnos.append(\"luz\")     #colocar parentesis sin dejar espacio con el append\n",
    "print(lista_alumnos)\n",
    "\n",
    "#modificar el segundo elemento \n",
    "lista_alumnos[1]= (\"Miguel\")    #llamar al elemento por su numero y su nombre\n",
    "print(lista_alumnos)\n",
    "\n",
    "#eliminar el tercer elemento\n",
    "lista_alumnos.remove(\"Maria\")\n",
    "print(lista_alumnos)\n",
    "\n",
    "\n",
    "#numero_total_lista = len(lista_alumnos)\n",
    "print(len(lista_alumnos))"
   ]
  },
  {
   "cell_type": "markdown",
   "metadata": {},
   "source": [
    "## Solucion de Clau :)"
   ]
  },
  {
   "cell_type": "code",
   "execution_count": 18,
   "metadata": {},
   "outputs": [
    {
     "name": "stdout",
     "output_type": "stream",
     "text": [
      "['vaca', 1, 'gato', 'pez', 2]\n",
      "['vaca', 1, 'gato', 'pez', 2, 'elefante']\n",
      "['vaca', 'jirafa', 'gato', 'pez', 2, 'elefante']\n",
      "['vaca', 'jirafa', 'gato', 'pez', 2]\n",
      "La cantidad de animales es 5\n"
     ]
    }
   ],
   "source": [
    "lista_animales = [\"vaca\", 1, \"gato\", \"pez\", 2]\n",
    "print (lista_animales)\n",
    "\n",
    "lista_animales.append (\"elefante\")\n",
    "print (lista_animales)\n",
    "\n",
    "lista_animales [1] = (\"jirafa\")\n",
    "print (lista_animales)\n",
    "\n",
    "lista_animales.remove (\"elefante\")\n",
    "print (lista_animales)\n",
    "\n",
    "len (lista_animales)\n",
    "print (f\"La cantidad de animales es {len(lista_animales)}\")"
   ]
  },
  {
   "cell_type": "markdown",
   "metadata": {},
   "source": [
    "## Bucles Iterativos (For)"
   ]
  },
  {
   "cell_type": "code",
   "execution_count": 27,
   "metadata": {},
   "outputs": [
    {
     "name": "stdout",
     "output_type": "stream",
     "text": [
      "Ana\n",
      "0\n",
      "Ana\n",
      "1\n",
      "Ana\n",
      "2\n",
      "Ana\n",
      "3\n",
      "Ana\n",
      "4\n"
     ]
    }
   ],
   "source": [
    "# Imprimir mi nombre 5 veces\n",
    "\n",
    "for i in range(5):\n",
    "    print(\"Ana\")\n",
    "    print(i)\n",
    "\n"
   ]
  },
  {
   "cell_type": "code",
   "execution_count": 29,
   "metadata": {},
   "outputs": [
    {
     "name": "stdout",
     "output_type": "stream",
     "text": [
      "0\n",
      "2\n",
      "4\n",
      "6\n",
      "8\n"
     ]
    }
   ],
   "source": [
    "# Iterador\n",
    "for pera in range(5):\n",
    "    print(pera * 2)"
   ]
  },
  {
   "cell_type": "markdown",
   "metadata": {},
   "source": [
    "### Challenge 🤺 - 20m\n",
    "\n",
    "Escribir un programa que itere en un rango de 10 veces. Por cada iteracion multiplicar el iterador por dos e imprimir el resultado."
   ]
  },
  {
   "cell_type": "markdown",
   "metadata": {},
   "source": [
    "## Solucion de Ivan :)"
   ]
  },
  {
   "cell_type": "code",
   "execution_count": 30,
   "metadata": {},
   "outputs": [
    {
     "name": "stdout",
     "output_type": "stream",
     "text": [
      "0\n",
      "2\n",
      "4\n",
      "6\n",
      "8\n",
      "10\n",
      "12\n",
      "14\n",
      "16\n",
      "18\n"
     ]
    }
   ],
   "source": [
    "for i in range(10): # se crea un bucle for para poder iterar una variable\n",
    "    print(i*2) # esa variable se multiplica por 2 y se imprime"
   ]
  },
  {
   "cell_type": "markdown",
   "metadata": {},
   "source": [
    "## SOLUCION DE GERARDO :)"
   ]
  },
  {
   "cell_type": "code",
   "execution_count": 31,
   "metadata": {},
   "outputs": [
    {
     "name": "stdout",
     "output_type": "stream",
     "text": [
      "0\n",
      "2\n",
      "4\n",
      "6\n",
      "8\n",
      "10\n",
      "12\n",
      "14\n",
      "16\n",
      "18\n"
     ]
    }
   ],
   "source": [
    "for i in range(10):\n",
    "    numeritos=i*2\n",
    "    print(numeritos)"
   ]
  },
  {
   "cell_type": "code",
   "execution_count": 38,
   "metadata": {},
   "outputs": [
    {
     "name": "stdout",
     "output_type": "stream",
     "text": [
      "hola yo soy 'Ivan'\n",
      "hola yo soy 'Clari'\n",
      "hola yo soy 'Naye'\n",
      "hola yo soy 'Gerardo'\n"
     ]
    }
   ],
   "source": [
    "lista_de_alumnos = [\"Ivan\", \"Clari\", \"Naye\", \"Gerardo\"]\n",
    "\n",
    "for alumno in lista_de_alumnos:\n",
    "    print(f\"hola yo soy '{alumno}'\")"
   ]
  },
  {
   "cell_type": "code",
   "execution_count": 37,
   "metadata": {},
   "outputs": [
    {
     "name": "stdout",
     "output_type": "stream",
     "text": [
      "yo soy la letra p\n",
      "yo soy la letra a\n",
      "yo soy la letra l\n",
      "yo soy la letra a\n",
      "yo soy la letra b\n",
      "yo soy la letra r\n",
      "yo soy la letra a\n"
     ]
    }
   ],
   "source": [
    "for letra in \"palabra\":\n",
    "    print(f\"yo soy la letra {letra}\")"
   ]
  },
  {
   "cell_type": "markdown",
   "metadata": {},
   "source": [
    "### Challenge 🤺 - 20m\n",
    "\n",
    "Recorrer los elementos de una lista de palabras e imprimir cada palabra *__solamente__* si tiene 6 letras o más."
   ]
  },
  {
   "cell_type": "markdown",
   "metadata": {},
   "source": [
    "Solucion de Diana :)"
   ]
  },
  {
   "cell_type": "code",
   "execution_count": 39,
   "metadata": {},
   "outputs": [
    {
     "name": "stdout",
     "output_type": "stream",
     "text": [
      "tierra\n"
     ]
    }
   ],
   "source": [
    "lista_de_palabras= ['agua','tierra','fuego','aire']\n",
    "for i in lista_de_palabras:\n",
    "    cantidad_de_letras= len (i)\n",
    "    if cantidad_de_letras >=6: \n",
    "        print (i)"
   ]
  },
  {
   "cell_type": "markdown",
   "metadata": {},
   "source": [
    "Solucion de Lucas :)"
   ]
  },
  {
   "cell_type": "code",
   "execution_count": 40,
   "metadata": {},
   "outputs": [
    {
     "name": "stdout",
     "output_type": "stream",
     "text": [
      "computadora\n",
      "escuela\n",
      "celular\n"
     ]
    }
   ],
   "source": [
    "palabras = ['casa','auto','computadora','libro','escuela','celular'] # se crea la lista\n",
    "cant=len(palabras) # se guarda en una variabla la cantidad de elementos de la lista\n",
    "for i in range(cant): # el for con range analiza cada elemento como una sub lista\n",
    "    contador_letras = palabras[i] # el primer elemento de la lista inicial pasa a ser la nueva sub lista que en este caso seria la palabra sola\n",
    "    cantidad=len(contador_letras) # se guarda la cantidad de elementos de esta nueva lista que seria la cantidad de letras de cada palabra\n",
    "    if cantidad >= 6: # se aplica la condicion con el if \n",
    "        print(contador_letras) # se imprime la palabra si la cantidad de letras es mayo/igual a 6"
   ]
  },
  {
   "cell_type": "code",
   "execution_count": 41,
   "metadata": {},
   "outputs": [
    {
     "name": "stdout",
     "output_type": "stream",
     "text": [
      "tierra\n"
     ]
    }
   ],
   "source": [
    "for palabra in lista_de_palabras:\n",
    "    if len(palabra) >= 6:\n",
    "        print(palabra)"
   ]
  },
  {
   "cell_type": "code",
   "execution_count": 42,
   "metadata": {},
   "outputs": [
    {
     "name": "stdout",
     "output_type": "stream",
     "text": [
      "H\n",
      "o\n",
      "l\n",
      "a\n"
     ]
    }
   ],
   "source": [
    "palabra = \"Hola\"\n",
    "for letra in palabra:\n",
    "    print(letra)"
   ]
  },
  {
   "cell_type": "markdown",
   "metadata": {},
   "source": [
    "-Variables\n",
    "-String - Int - Float - Bool\n",
    "- Concatenacion\n",
    "- Operadores logicos ==, !=, >, <, >=, <=, and, or, not\n",
    "- Condicionales\n",
    "- Funciones\n",
    "- Bucles "
   ]
  },
  {
   "cell_type": "markdown",
   "metadata": {},
   "source": [
    "## Challenge 2 🤺 - 15 min\n",
    "Crear una función que reciba dos letras (parámetros) y que verifique si son iguales:\n",
    "\n",
    "1. Si son iguales, imprimir \"Las letras son iguales\".\n",
    "\n",
    "2. De lo contrario, imprimir \"Las letras son diferentes\"."
   ]
  },
  {
   "cell_type": "markdown",
   "metadata": {},
   "source": [
    "Solucion Gio :)"
   ]
  },
  {
   "cell_type": "code",
   "execution_count": 44,
   "metadata": {},
   "outputs": [
    {
     "name": "stdout",
     "output_type": "stream",
     "text": [
      "Las letras son diferentes\n"
     ]
    }
   ],
   "source": [
    "def compararletras(letra1, letra2):\n",
    "    if letra1 == letra2:\n",
    "        print(\"Las letras son iguales\")\n",
    "    else:\n",
    "        print(\"Las letras son diferentes\")\n",
    "\n",
    "compararletras(\"b\", \"a\")"
   ]
  }
 ],
 "metadata": {
  "kernelspec": {
   "display_name": "Python 3",
   "language": "python",
   "name": "python3"
  },
  "language_info": {
   "codemirror_mode": {
    "name": "ipython",
    "version": 3
   },
   "file_extension": ".py",
   "mimetype": "text/x-python",
   "name": "python",
   "nbconvert_exporter": "python",
   "pygments_lexer": "ipython3",
   "version": "3.10.12"
  },
  "orig_nbformat": 4
 },
 "nbformat": 4,
 "nbformat_minor": 2
}
