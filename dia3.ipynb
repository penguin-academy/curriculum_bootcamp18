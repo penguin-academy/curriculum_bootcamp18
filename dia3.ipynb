{
 "cells": [
  {
   "cell_type": "markdown",
   "metadata": {},
   "source": [
    "## Challenge 2 🤺 - 15 min\n",
    "Crear una función que reciba dos letras (parámetros) y que verifique si son iguales:\n",
    "\n",
    "1. Si son iguales, imprimir \"Las letras son iguales\".\n",
    "\n",
    "2. De lo contrario, imprimir \"Las letras son diferentes\"."
   ]
  },
  {
   "cell_type": "code",
   "execution_count": 3,
   "metadata": {},
   "outputs": [
    {
     "name": "stdout",
     "output_type": "stream",
     "text": [
      "Las letras son iguales\n",
      "Las letras no son iguales\n"
     ]
    }
   ],
   "source": [
    "# Crear una función que reciba dos letras (parámetros) \n",
    "def verificar_letras(primera_letra, segunda_letra):\n",
    "    # que verifique si son iguales:\n",
    "    if primera_letra == segunda_letra:\n",
    "        print(\"Las letras son iguales\")\n",
    "    else:\n",
    "        print(\"Las letras no son iguales\")\n",
    "\n",
    "verificar_letras(\"a\", \"a\")\n",
    "verificar_letras(\"c\", \"d\")\n"
   ]
  },
  {
   "cell_type": "markdown",
   "metadata": {},
   "source": [
    "## Return"
   ]
  },
  {
   "cell_type": "code",
   "execution_count": 8,
   "metadata": {},
   "outputs": [
    {
     "name": "stdout",
     "output_type": "stream",
     "text": [
      "yo valgo35000\n",
      "el total a pagar es 30000\n"
     ]
    }
   ],
   "source": [
    "def total_de_compra():\n",
    "    producto_1 = int(input(\"Ingrese el precio\"))\n",
    "    producto_2 = int(input(\"Ingrese el precio\"))\n",
    "    total = producto_1 + producto_2\n",
    "    print(total)\n",
    "    return total\n",
    "    \n",
    "\n",
    "descuento = 5000\n",
    "resultado = total_de_compra()\n",
    "print(f\"yo valgo{resultado}\")\n",
    "\n",
    "total_a_pagar = resultado - descuento\n",
    "print(f\"el total a pagar es {total_a_pagar}\")"
   ]
  },
  {
   "cell_type": "code",
   "execution_count": 11,
   "metadata": {},
   "outputs": [
    {
     "name": "stdout",
     "output_type": "stream",
     "text": [
      "Las palabras son iguales\n"
     ]
    }
   ],
   "source": [
    "def verificar_si_las_palabras_coinciden(palabra_a_encontrar, palabra_ingresada):\n",
    "    palabras_son_iguales = palabra_a_encontrar == palabra_ingresada\n",
    "\n",
    "    if palabras_son_iguales:\n",
    "        return 'Las palabras son iguales'\n",
    "    else:\n",
    "        return 'Las palabras son diferentes'\n",
    "    \n",
    "# Revisamos si las palabras coinciden \n",
    "\n",
    "palabras_coinciden = verificar_si_las_palabras_coinciden(\"perro\", \"perro\")\n",
    "\n",
    "print(palabras_coinciden)"
   ]
  },
  {
   "cell_type": "markdown",
   "metadata": {},
   "source": [
    "## Challenge 3 🤺 - 15m\n",
    "\n",
    "Crear una función que reciba dos parámetros (una palabra y un número), y que retorne `True` si el número es igual a la cantidad de letras de la palabra. En caso contrario, que retorne `False`.\n",
    "\n",
    "pista: 'como contar la cantidad de letras de una palabra (len)'"
   ]
  },
  {
   "cell_type": "markdown",
   "metadata": {},
   "source": [
    "## Solucion de Diana :)"
   ]
  },
  {
   "cell_type": "code",
   "execution_count": 14,
   "metadata": {},
   "outputs": [
    {
     "name": "stdout",
     "output_type": "stream",
     "text": [
      "False\n"
     ]
    }
   ],
   "source": [
    "def palabras_numeros(una_palabra, un_numero): #definir mi funcion con mis dos parametros a comparar\n",
    "    #todo lo posterior ingresa dentro de mi funcion\n",
    "    cantidad_de_letras_en_una_palabra= len(una_palabra)==int(un_numero)#crear una variable que compare mis parametros la cantidad de letras en mi palabra con mi numero a ingresar\n",
    "    if cantidad_de_letras_en_una_palabra: #si mi comparacion se cumple que imprima que es la respuesta correcta\n",
    "        return True\n",
    "    else: #si no coinciden que imprima que es una respuesta incorrecta\n",
    "        return False\n",
    "\n",
    "variable_palabra= input(\"Ingrese una palabra\") #creo una variable que me permita ingresar la palabra que quiera\n",
    "variable_numero= input(\"Ingrese un numero\") #creo una variable que me permita ingresar un numero\n",
    "\n",
    "verificar_si_numero_coincide_con_letras_palabras= palabras_numeros(variable_palabra, variable_numero) #creo otra variable que me retorne mi funcion con mis dos variables con datos ingresados \n",
    "print(verificar_si_numero_coincide_con_letras_palabras) #imprimo el resultado"
   ]
  },
  {
   "cell_type": "markdown",
   "metadata": {},
   "source": [
    "## Solucion de Gerardo :)"
   ]
  },
  {
   "cell_type": "code",
   "execution_count": 16,
   "metadata": {},
   "outputs": [
    {
     "name": "stdout",
     "output_type": "stream",
     "text": [
      "True\n"
     ]
    }
   ],
   "source": [
    "def verificador(palabra, numero):\n",
    "    cantidad_palabras_iguales = len(palabra) == numero \n",
    "    if cantidad_palabras_iguales:\n",
    "        return True\n",
    "    else:\n",
    "        return False\n",
    "\n",
    "respuesta = verificador('hola',4)\n",
    "print(respuesta)"
   ]
  },
  {
   "cell_type": "markdown",
   "metadata": {},
   "source": [
    "## Solucion de Lucas :)"
   ]
  },
  {
   "cell_type": "code",
   "execution_count": 18,
   "metadata": {},
   "outputs": [
    {
     "data": {
      "text/plain": [
       "False"
      ]
     },
     "execution_count": 18,
     "metadata": {},
     "output_type": "execute_result"
    }
   ],
   "source": [
    "def comparar(palabra,letras):   # la funcion recibe los parametros, palabra (string) y letras (int)\n",
    "    if len(palabra) == letras:  # usamos len para obtener la cantidad de letras de \"palabras\" y comparamos \n",
    "        verificacion = True     # en este caso se crea la variable booleana \"verificacion\" que sera True en este caso\n",
    "    else: verificacion = False  # caso contrario verificacion sera False\n",
    "    return verificacion         # retornamos verificacion llamamos a la funcion\n",
    "comparar(\"termo\",3)      # le damos parametros a la funcion y nos retorna el resultado"
   ]
  },
  {
   "cell_type": "markdown",
   "metadata": {},
   "source": [
    "## Operador logico in"
   ]
  },
  {
   "cell_type": "code",
   "execution_count": 20,
   "metadata": {},
   "outputs": [
    {
     "name": "stdout",
     "output_type": "stream",
     "text": [
      "False\n"
     ]
    }
   ],
   "source": [
    "palabra = 'hola'\n",
    "letra = 'x'\n",
    "letra_existe = letra in palabra\n",
    "print(letra_existe)"
   ]
  },
  {
   "cell_type": "markdown",
   "metadata": {},
   "source": [
    "## Challenge 4 🤺 - 20 min\n",
    "Crear función que revise si una palabra contiene una letra. En caso de que la contenga, retornar la letra entre corchetes `[]`. De lo contrario, retornar solo la letra."
   ]
  },
  {
   "cell_type": "markdown",
   "metadata": {},
   "source": [
    "## Solucion de Gio :)"
   ]
  },
  {
   "cell_type": "code",
   "execution_count": 22,
   "metadata": {},
   "outputs": [
    {
     "data": {
      "text/plain": [
       "'[c]'"
      ]
     },
     "execution_count": 22,
     "metadata": {},
     "output_type": "execute_result"
    }
   ],
   "source": [
    "# 1- crear funcion con def\n",
    "# 2- usar condicional if y el operador logico in (adentro)\n",
    "# 3- llamar a la funcion y comprobar 🙂\n",
    "# ojo!! la importancia de poner los corchetes entre comillas es para que el sistema no tome lo de adentro como una lista\n",
    "def revisar(palabra, letra):\n",
    "    if letra in palabra:\n",
    "        return \"[\" + letra + \"]\"\n",
    "    else:\n",
    "        return letra\n",
    "\n",
    "revisar (\"carpincho\", \"c\")"
   ]
  },
  {
   "cell_type": "markdown",
   "metadata": {},
   "source": [
    "## Solucion de RUben :)"
   ]
  },
  {
   "cell_type": "code",
   "execution_count": 24,
   "metadata": {},
   "outputs": [
    {
     "data": {
      "text/plain": [
       "'c'"
      ]
     },
     "execution_count": 24,
     "metadata": {},
     "output_type": "execute_result"
    }
   ],
   "source": [
    "def revisar_palabra (palabraok,  letra_en_la_palabra):\n",
    "    palabra_esta_dentro = letra_en_la_palabra  in palabraok\n",
    "    #print(palabra_esta_dentro)\n",
    "    if palabra_esta_dentro:\n",
    "        return f\"[{letra_en_la_palabra}]\"\n",
    "    else:\n",
    "        return  letra_en_la_palabra\n",
    "\n",
    "palabra_usuario  = input(\"ingresar palabra\")\n",
    "letra_usuario = input(\"ingresar letra que contenga la palabra\")\n",
    "revisar_palabra (palabra_usuario, letra_usuario)\n",
    "#print(resultado)"
   ]
  },
  {
   "cell_type": "markdown",
   "metadata": {},
   "source": [
    "## Funcion list()"
   ]
  },
  {
   "cell_type": "code",
   "execution_count": 26,
   "metadata": {},
   "outputs": [
    {
     "name": "stdout",
     "output_type": "stream",
     "text": [
      "arbol\n",
      "arabe\n",
      "['a', 'r', 'b', 'o', 'l']\n",
      "['a', 'r', 'a', 'b', 'e']\n"
     ]
    }
   ],
   "source": [
    "palabra_a_encontrar = input(\"ingrese una palabra secreta\")\n",
    "palabra_ingresada = input(\"Ingrese una palabra\")\n",
    "print(palabra_a_encontrar)\n",
    "print(palabra_ingresada)\n",
    "\n",
    "lista_de_letras_a_encontrar = list(palabra_a_encontrar)\n",
    "print(lista_de_letras_a_encontrar)\n",
    "lista_de_letras_ingresadas = list(palabra_ingresada)\n",
    "print(lista_de_letras_ingresadas)"
   ]
  },
  {
   "cell_type": "markdown",
   "metadata": {},
   "source": [
    "## Challenge 5 🤺 - 20m\n",
    "\n",
    "Pedir al usuario que ingrese 1 palabra, luego convertir esa palabra a una lista con sus caracteres con `list()`. Agregar esa lista de caracteres a una lista llamada `palabras_ingresadas`. Repetir el proceso 3 veces. Cada vez Agregar esa lista de caracteres a una lista llamada `palabras_ingresadas`. Repetir el proceso 3 veces. Cada vez que se agregue una lista de caracteres, imprimir la lista `palabras_ingresadas`.\n",
    "\n",
    "\n",
    "Ejemplo del resultado esperado:\n",
    "\n",
    "```[['c', 'i', 'e', 'l', 'o']]``` # Al ingresar la primera palabra\n",
    "\n",
    "```[['c', 'i', 'e', 'l', 'o'], ['c', 'a', 'l', 'o', 'r']]``` # Al ingresar la segunda palabra\n",
    "\n",
    "```[['c', 'i', 'e', 'l', 'o'], ['c', 'a', 'l', 'o', 'r'], ['n', 'u', 'b', 'e', 's']]``` # Al ingresar la tercera palabra"
   ]
  },
  {
   "cell_type": "code",
   "execution_count": null,
   "metadata": {},
   "outputs": [],
   "source": [
    "# Pedir al usuario que ingrese 1 palabra (input)\n",
    "\n",
    "# convertir esa palabra a una lista con sus caracteres con `list()`\n",
    "\n",
    "# Agregar esa lista de caracteres a una lista llamada `palabras_ingresadas`\n",
    "\n",
    "# repetir el proceso tres veces"
   ]
  },
  {
   "cell_type": "markdown",
   "metadata": {},
   "source": [
    "## Solucion de Sam :)"
   ]
  },
  {
   "cell_type": "code",
   "execution_count": 27,
   "metadata": {},
   "outputs": [
    {
     "name": "stdout",
     "output_type": "stream",
     "text": [
      "[['p', 'o', 'l', 'l', 'i', 't', 'o']]\n",
      "[['p', 'o', 'l', 'l', 'i', 't', 'o'], ['p', 'e', 'r', 'r', 'o', 's']]\n",
      "[['p', 'o', 'l', 'l', 'i', 't', 'o'], ['p', 'e', 'r', 'r', 'o', 's'], ['g', 'a', 't', 'o', 's']]\n"
     ]
    }
   ],
   "source": [
    "palabras_ingresadas = []                  #3ro\n",
    "for palabraas in range (3):               #4to\n",
    " word = input(\"ingrese una palabra\")      #1ero\n",
    " lista = list(word)                       #2ndo\n",
    " palabras_ingresadas.append(lista)        #5to\n",
    " print(palabras_ingresadas)               #6to"
   ]
  },
  {
   "cell_type": "markdown",
   "metadata": {},
   "source": [
    "## Solucion de Ivan :)"
   ]
  },
  {
   "cell_type": "code",
   "execution_count": 28,
   "metadata": {},
   "outputs": [
    {
     "name": "stdout",
     "output_type": "stream",
     "text": [
      "[['p', 'e', 'r', 'r', 'o', 's']]\n",
      "[['p', 'e', 'r', 'r', 'o', 's'], ['p', 'o', 'l', 'l', 'i', 't', 'o']]\n",
      "[['p', 'e', 'r', 'r', 'o', 's'], ['p', 'o', 'l', 'l', 'i', 't', 'o'], ['g', 'a', 't', 'o', 's']]\n"
     ]
    }
   ],
   "source": [
    "listas_de_listas = []#Se crea una lista para poder crear una lista de listas nuevamente\n",
    "i = 1 # Creamos un contador para poder usar en la condicion del while\n",
    "while i <= 3: # Creamos el while condicionando que el contador sea menor o igual a 3\n",
    "    palabra= input(\"Ingrese una palabra: \") # PEdimos al usuario que ingrese las palabras\n",
    "    lista_de_palabras = list(palabra) #convertimos la palbra en una lista\n",
    "    listas_de_listas.append(lista_de_palabras) #Agregamos esa lista a nuestra lista de listas\n",
    "    print(listas_de_listas)#Imprimimos la lista\n",
    "    i += 1 #Sumamos uno al contador"
   ]
  },
  {
   "cell_type": "markdown",
   "metadata": {},
   "source": [
    "## Codigo de Clari :)"
   ]
  },
  {
   "cell_type": "code",
   "execution_count": 29,
   "metadata": {},
   "outputs": [
    {
     "name": "stdout",
     "output_type": "stream",
     "text": [
      "H\n",
      "I\n",
      "J\n",
      "K\n"
     ]
    }
   ],
   "source": [
    "lista = [\"A\",\"B\",\"C\",\"D\",\"E\",\"F\",\"G\",\"H\",\"I\",\"J\",\"K\"]\n",
    "contador = 0\n",
    "for iterador in lista:\n",
    "    if contador >=7:\n",
    "        print(iterador)\n",
    "    contador = contador + 1"
   ]
  },
  {
   "cell_type": "markdown",
   "metadata": {},
   "source": [
    "## Funcion Verificadora"
   ]
  },
  {
   "cell_type": "code",
   "execution_count": 30,
   "metadata": {},
   "outputs": [],
   "source": [
    "# Crear nuestra funcion \n",
    "# Crear una lista vacia para el resultado\n",
    "# Si las lestras existen en la palabra a encontrar y sus posiciones coinciden: Encerrar la letras entre []\n",
    "# Si las lestras existen en la palabra pero sus posiciones no coinciden: encerrar la letra entre ()\n",
    "# Si no se cumple ninguna de las condiciones, agregar la letra sola\n",
    "# Retornar el resultado"
   ]
  },
  {
   "cell_type": "code",
   "execution_count": 31,
   "metadata": {},
   "outputs": [],
   "source": [
    "def obtener_fila_verificada(palabra_a_encontrar, palabra_ingresada):\n",
    "    cantidad_de_letras = 5\n",
    "    \n",
    "    letras_verificadas = [] \n",
    "\n",
    "    for posicion in range(cantidad_de_letras):\n",
    "        las_letras_son_iguales = palabra_a_encontrar[posicion] == palabra_ingresada[posicion]\n",
    "        la_letra_existe = palabra_ingresada[posicion] in palabra_a_encontrar\n",
    "\n",
    "        if las_letras_son_iguales:\n",
    "            letras_verificadas.append(f\"[{palabra_ingresada[posicion]}]\")\n",
    "        elif la_letra_existe:\n",
    "            letras_verificadas.append(f\"({palabra_ingresada[posicion]})\")\n",
    "        else:\n",
    "            letras_verificadas.append(palabra_ingresada[posicion])\n",
    "\n",
    "    return letras_verificadas\n",
    "\n"
   ]
  },
  {
   "cell_type": "markdown",
   "metadata": {},
   "source": [
    "## Probamos nuestra funcion y rezamos para que funcione"
   ]
  },
  {
   "cell_type": "code",
   "execution_count": 33,
   "metadata": {},
   "outputs": [
    {
     "name": "stdout",
     "output_type": "stream",
     "text": [
      "['[a]', '(e)', '(r)', '(e)', 'o']\n"
     ]
    }
   ],
   "source": [
    "palabra_a_encontrar = input(\"Ingrese una palabra secreta\")\n",
    "palabra_ingresada = input(\"Ingrese otra palabra\")\n",
    "\n",
    "linea_verificada = obtener_fila_verificada(palabra_a_encontrar, palabra_ingresada)\n",
    "print(linea_verificada)"
   ]
  },
  {
   "cell_type": "markdown",
   "metadata": {},
   "source": [
    "## Challenge 6 🤺 - 20m\n",
    "\n",
    "Dada la lista de ejemplo: \n",
    "\n",
    "lista = [['h', 'o', 'l', 'i', 's'], ['h', 'e', 'l', 'l', 'o'], ['h', 'a', 'l', 'l', 'o']]\n",
    "\n",
    "Crear una función que imprima una grilla (lista de listas), una línea por cada lista dentro de la lista principal.\n",
    "\n",
    "Ejemplo del resultado esperado:\n",
    "\n",
    "```\n",
    "['h', 'o', 'l', 'i', 's']\n",
    "['h', 'e', 'l', 'l', 'o']\n",
    "['h', 'a', 'l', 'l', 'o']\n",
    "```"
   ]
  },
  {
   "cell_type": "markdown",
   "metadata": {},
   "source": [
    "## Solucion de Carlos :)"
   ]
  },
  {
   "cell_type": "code",
   "execution_count": 34,
   "metadata": {},
   "outputs": [
    {
     "name": "stdout",
     "output_type": "stream",
     "text": [
      "['h', 'o', 'l', 'i', 's']\n",
      "['h', 'e', 'l', 'l', 'o']\n",
      "['h', 'a', 'l', 'l', 'o']\n"
     ]
    }
   ],
   "source": [
    "def listagrilla ():\n",
    "    lista = [['h', 'o', 'l', 'i', 's'], ['h', 'e', 'l', 'l', 'o'], ['h', 'a', 'l', 'l', 'o']]\n",
    "    for sublista in lista: \n",
    "        print(sublista)\n",
    "listagrilla()"
   ]
  },
  {
   "cell_type": "markdown",
   "metadata": {},
   "source": [
    "## Solucion de Kevin :)"
   ]
  },
  {
   "cell_type": "code",
   "execution_count": 36,
   "metadata": {},
   "outputs": [
    {
     "name": "stdout",
     "output_type": "stream",
     "text": [
      "['h', 'o', 'l', 'i', 's']\n",
      "['h', 'e', 'l', 'l', 'o']\n",
      "['h', 'a', 'l', 'l', 'o']\n"
     ]
    }
   ],
   "source": [
    "#Crear una función que imprima una grilla (lista de listas)\n",
    "def listagrilla():\n",
    "    lista = [['h', 'o', 'l', 'i', 's'], ['h', 'e', 'l', 'l', 'o'], ['h', 'a', 'l', 'l', 'o']]\n",
    "    for casilla in lista:\n",
    "        print(casilla)\n",
    "\n",
    "listagrilla()"
   ]
  },
  {
   "cell_type": "code",
   "execution_count": 37,
   "metadata": {},
   "outputs": [
    {
     "name": "stdout",
     "output_type": "stream",
     "text": [
      "Te quedan 3 intentos\n",
      "hola\n",
      "Te quedan 2 intentos\n",
      "que\n",
      "Te quedan 1 intentos\n",
      "tal\n",
      "Ya no quedan intentos\n"
     ]
    }
   ],
   "source": [
    "# Contador de intentos \n",
    "\n",
    "intentos = 3\n",
    "\n",
    "while intentos > 0:\n",
    "    print(f\"Te quedan {intentos} intentos\")\n",
    "    palabra = input(\"Ingrese una palabra: \")\n",
    "    intentos = intentos - 1\n",
    "    print(palabra)\n",
    "\n",
    "print(\"Ya no quedan intentos\")"
   ]
  },
  {
   "cell_type": "markdown",
   "metadata": {},
   "source": [
    "# Unimos todo !!!! 1h"
   ]
  },
  {
   "cell_type": "code",
   "execution_count": 38,
   "metadata": {},
   "outputs": [
    {
     "name": "stdout",
     "output_type": "stream",
     "text": [
      "['p', 'e', '(r)', '(r)', '(o)']\n",
      "te quedan3\n",
      "ganate\n",
      "perdiste\n"
     ]
    }
   ],
   "source": [
    "palabra_adv=input(\"cargue su palabra secreta\")\n",
    "intentos=3\n",
    "def obtener_fila_verificada(palabra_a_encontrar, palabra_ingresada):\n",
    "    cantidad_de_letras = len(palabra_a_encontrar)\n",
    "    letras_verificadas = []\n",
    "    for posicion in range(cantidad_de_letras):\n",
    "        las_letras_son_iguales = palabra_a_encontrar[posicion] == palabra_ingresada[posicion]\n",
    "        la_letra_existe = palabra_ingresada[posicion] in palabra_a_encontrar\n",
    "        if las_letras_son_iguales:\n",
    "            letras_verificadas.append(f\"[{palabra_ingresada[posicion]}]\")\n",
    "        elif la_letra_existe:\n",
    "            letras_verificadas.append(f\"({palabra_ingresada[posicion]})\")\n",
    "        else:\n",
    "            letras_verificadas.append(palabra_ingresada[posicion])\n",
    "    return letras_verificadas\n",
    "while intentos != 0:\n",
    "    palabra_ing=input(\"cargue su palabra\")\n",
    "    resultado=obtener_fila_verificada(palabra_adv,palabra_ing)\n",
    "    if palabra_adv == palabra_ing:\n",
    "        print(\"ganate\")\n",
    "        break\n",
    "    else:\n",
    "        print(resultado)\n",
    "        print(f\"te quedan{intentos}\")\n",
    "        intentos -= 1\n",
    "print(\"perdiste\")"
   ]
  },
  {
   "cell_type": "code",
   "execution_count": 39,
   "metadata": {},
   "outputs": [
    {
     "name": "stdout",
     "output_type": "stream",
     "text": [
      "bienvenido a Wordle\n",
      "['(a)', '(r)', 'b', '(o)', 'l']\n",
      "fallaste, intenta de nuevo\n",
      "['g', '[a]', 't', '(o)', 's']\n",
      "fallaste, intenta de nuevo\n",
      "['[m]', '[a]', '[r]', '[z]', '[o]']\n",
      "GANASTE MAQUINA FIERA MASTODONTE\n"
     ]
    }
   ],
   "source": [
    "print(\"bienvenido a Wordle\")\n",
    "palabra_a_encontrar = \"marzo\"\n",
    "contador = 5\n",
    "def verificador_cant_letras():\n",
    "    palabra_ingresada = input(\"ingrese una palabra de 5 letras\")\n",
    "    while len(palabra_ingresada) != 5:\n",
    "        palabra_ingresada = input(\"por favor ingrese solo 5 letras\")\n",
    "    return palabra_ingresada\n",
    "\n",
    "\n",
    "while contador > 0:\n",
    "    contador = contador - 1\n",
    "    palabra_ingresada = verificador_cant_letras()\n",
    "    resultado = obtener_fila_verificada(palabra_a_encontrar,palabra_ingresada)\n",
    "    print(resultado)\n",
    "    if palabra_a_encontrar == palabra_ingresada:\n",
    "        print(\"GANASTE MAQUINA FIERA MASTODONTE\")\n",
    "        break\n",
    "    else: \n",
    "        print(\"fallaste, intenta de nuevo\")\n",
    "\n",
    "if contador == 0:\n",
    "    print(\"Segui participando rey\")"
   ]
  }
 ],
 "metadata": {
  "kernelspec": {
   "display_name": "Python 3",
   "language": "python",
   "name": "python3"
  },
  "language_info": {
   "codemirror_mode": {
    "name": "ipython",
    "version": 3
   },
   "file_extension": ".py",
   "mimetype": "text/x-python",
   "name": "python",
   "nbconvert_exporter": "python",
   "pygments_lexer": "ipython3",
   "version": "3.10.12"
  },
  "orig_nbformat": 4
 },
 "nbformat": 4,
 "nbformat_minor": 2
}
