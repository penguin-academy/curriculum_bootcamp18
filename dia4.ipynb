{
 "cells": [
  {
   "cell_type": "markdown",
   "metadata": {},
   "source": [
    "#Programacion orientada a objetos\n",
    "\n",
    "Python también nos permite representar cosas del mundo real, más fielmente por medio de estructuras de datos llamadas **objetos**."
   ]
  },
  {
   "cell_type": "code",
   "execution_count": 2,
   "metadata": {},
   "outputs": [
    {
     "name": "stdout",
     "output_type": "stream",
     "text": [
      "2\n",
      "2\n"
     ]
    }
   ],
   "source": [
    "class Personaje: #Creo el molde\n",
    "    piernas = 2 #Caracteristicas \n",
    "    ojos = 2\n",
    "\n",
    "primer_personaje = Personaje() #Creo mi objeto\n",
    "\n",
    "print(primer_personaje.piernas)\n",
    "print(primer_personaje.ojos)\n"
   ]
  },
  {
   "cell_type": "code",
   "execution_count": 7,
   "metadata": {},
   "outputs": [
    {
     "name": "stdout",
     "output_type": "stream",
     "text": [
      "20 2\n",
      "15\n"
     ]
    }
   ],
   "source": [
    "class Humano:\n",
    "    ojos = 2 #Atributo de clase (comun)\n",
    "\n",
    "    #atributo de instancia (caracteristico de cada objeto)\n",
    "    def __init__(self,edad,altura,nombre):\n",
    "        self.edad = edad\n",
    "        self.altura = altura\n",
    "        self.nombre = nombre\n",
    "\n",
    "mi_humano = Humano(20,1.80,\"Hernan\") #Se crea el objeto y le establezco la edad\n",
    "print(mi_humano.edad, mi_humano.ojos)\n",
    "\n",
    "mi_humanito = Humano(15,1.70,\"Roberto\")\n",
    "print(mi_humanito.edad)\n"
   ]
  },
  {
   "cell_type": "markdown",
   "metadata": {},
   "source": [
    "## Challenge 🤺\n",
    "\n",
    "Crear una clase animales que tenga atributo de clase y de instancia.\n",
    "\n",
    "- Atributos de clase: `especie`.\n",
    "- Atributos de instancia: `nombre` & `color`\n",
    ".\n",
    "Luego, crear nuevos objetos a partir de las nuevas class. Imprimir el nombre y el color de los animales en una frase.\n",
    "Ejemplo: \"Me llamo `{nombre}` y soy un ave de color `{color}`\"."
   ]
  },
  {
   "cell_type": "markdown",
   "metadata": {},
   "source": [
    "Solucion de Valeria :)"
   ]
  },
  {
   "cell_type": "code",
   "execution_count": 9,
   "metadata": {},
   "outputs": [
    {
     "name": "stdout",
     "output_type": "stream",
     "text": [
      "Me llamo Jorge, soy un tucan del color azul y mi pais de origen es el Caribe \n"
     ]
    }
   ],
   "source": [
    "class Animales:\n",
    "    especie = \"tucan\"\n",
    "    def __init__(self,nombre,color,origen):\n",
    "        self.nombre = nombre\n",
    "        self.color = color\n",
    "        self.origen = origen\n",
    "\n",
    "mi_ave = Animales(\"Jorge\",\"azul\",\"Caribe\")\n",
    "\n",
    "print(f\"Me llamo {mi_ave.nombre}, soy un {mi_ave.especie} del color {mi_ave.color} y mi pais de origen es el {mi_ave.origen} \")"
   ]
  },
  {
   "cell_type": "markdown",
   "metadata": {},
   "source": [
    "Solucion de Gio :)\n"
   ]
  },
  {
   "cell_type": "code",
   "execution_count": 10,
   "metadata": {},
   "outputs": [
    {
     "name": "stdout",
     "output_type": "stream",
     "text": [
      "Me llamo Maní y soy un roedor de color marrón.\n"
     ]
    }
   ],
   "source": [
    "class Animales:\n",
    "    especie = \"roedor\" #Atributo de clase\n",
    "\n",
    "    def __init__(self, nombre, color): #Atributo de instancia\n",
    "        self.nombre = nombre\n",
    "        self.color = color\n",
    "\n",
    "hamster = Animales(\"Maní\", \"marrón\") #Creando mi objeto\n",
    "\n",
    "print(f\"Me llamo {hamster.nombre} y soy un {hamster.especie} de color {hamster.color}.\")"
   ]
  },
  {
   "cell_type": "code",
   "execution_count": 11,
   "metadata": {},
   "outputs": [
    {
     "name": "stdout",
     "output_type": "stream",
     "text": [
      "Estoy volando 10 km\n",
      "Super Humano\n"
     ]
    }
   ],
   "source": [
    "class Superheroe: #Creando un modelo\n",
    "    especie = \"Super Humano\" #Atributo de clase\n",
    "\n",
    "    def __init__(self,nombre):\n",
    "        self.nombre = nombre\n",
    "\n",
    "    def rayos_laser(self):\n",
    "        print(\"tiro rayos de color rojo\") #Definimos nuestro metodo\n",
    "    def volar(self,km):\n",
    "        print(f\"Estoy volando {km} km\")# Definimos nuestro segundo metodo\n",
    "\n",
    "mi_superheroe = Superheroe(\"Lomborio\")#Creo mi objeto\n",
    "\n",
    "mi_superheroe.volar(10)\n",
    "\n",
    "print(mi_superheroe.especie)\n"
   ]
  },
  {
   "cell_type": "code",
   "execution_count": 12,
   "metadata": {},
   "outputs": [
    {
     "name": "stdout",
     "output_type": "stream",
     "text": [
      "Programar con los ojos cerrados\n",
      "Pinguino Ruben 2.2\n"
     ]
    }
   ],
   "source": [
    "class Alumnos:\n",
    "    piernas = 2\n",
    "\n",
    "    def __init__(self,nombre,estatura,edad):\n",
    "        self.nombre = nombre\n",
    "        self.estatura = estatura\n",
    "        self.edad = edad\n",
    "    \n",
    "    def super_poder(self):\n",
    "        print(\"Programar con los ojos cerrados\")\n",
    "\n",
    "\n",
    "   \n",
    "person1 = Alumnos(\"Pinguino Ruben\",2.2,24)\n",
    "person1.super_poder()\n",
    "\n",
    "print(person1.nombre, person1.estatura)\n"
   ]
  },
  {
   "cell_type": "markdown",
   "metadata": {},
   "source": [
    "## Challenge 🤺\n",
    "Crear dos métodos para nuestro animal y ejecutar, debe ser algo específico de ese animal.\n",
    "\n",
    "Ejemplo: \"Cuando hablo, digo X\".\n",
    "Ejemplo: \"Cuando me muevo, hago X\"."
   ]
  },
  {
   "cell_type": "markdown",
   "metadata": {},
   "source": [
    "Solucion de Sam :)\n"
   ]
  },
  {
   "cell_type": "code",
   "execution_count": 13,
   "metadata": {},
   "outputs": [
    {
     "name": "stdout",
     "output_type": "stream",
     "text": [
      "Yo soy Aristoteles el pinguino, vengo de las lejanas tierras de Luque\n",
      "cuando hablo, profeso Filosofia\n",
      "cuando me muevo, contruyo Teoremas matematicos\n"
     ]
    }
   ],
   "source": [
    "class Animal:                                          #establecemos la clase\n",
    "    especie = \"pinguino\"                              #atributo de clase\n",
    "\n",
    "    def __init__(self, nombre, origen):                #atriutos de instancia\n",
    "        self.nombre = nombre \n",
    "        self.origen = origen \n",
    "\n",
    "    def hablar(self, hablar):                           #metodo 1\n",
    "        print(f\"cuando hablo, profeso {hablar}\")\n",
    "\n",
    "    def moverse(self, accion):                          #metodo 2\n",
    "        print(f\"cuando me muevo, contruyo {accion}\")\n",
    "\n",
    "pinguino_1 = Animal(\"Aristoteles\",\"Luque\")             #cremos el objeto usando la clase como modelo\n",
    "print(f\"Yo soy {pinguino_1.nombre} el {pinguino_1.especie}, vengo de las lejanas tierras de {pinguino_1.origen}\")      #imprimimos un mensaje usando los atributos otorgados\n",
    "pinguino_1.hablar(\"Filosofia\")                          #establecemos los argumentos para los metodos \n",
    "pinguino_1.moverse(\"Teoremas matematicos\")\n"
   ]
  },
  {
   "cell_type": "markdown",
   "metadata": {},
   "source": [
    "Solucion de Renato :)"
   ]
  },
  {
   "cell_type": "code",
   "execution_count": 16,
   "metadata": {},
   "outputs": [
    {
     "name": "stdout",
     "output_type": "stream",
     "text": [
      "Hola, yo soy Lalo la salamandra y soy de color marrón, mucho gusto.\n",
      "Cuando hablos, pronuncios la S al final de las palabras.\n",
      "Cuando me muevos, la cola me baila solas.\n"
     ]
    }
   ],
   "source": [
    "class Animal:\n",
    "\n",
    "    especie = \"salamandra\"      # ATRIBUTO DE CLASE\n",
    "\n",
    "    def __init__(self, nombre, color):      #ATRIBUTO DE INSTANCIA\n",
    "        self.nombre = nombre\n",
    "        self.color = color\n",
    "\n",
    "    def hablando (self):        # CREO MI METODO\n",
    "        print (\"Cuando hablos, pronuncios la S al final de las palabras.\")\n",
    "\n",
    "    def moviendose (self):      # CREO MI SEGUNDO METODO\n",
    "        print (\"Cuando me muevos, la cola me baila solas.\")\n",
    "\n",
    "lasalamandra = Animal(\"Lalo\", \"marrón\")\n",
    "\n",
    "print (f\"Hola, yo soy {lasalamandra.nombre} la {lasalamandra.especie} y soy de color {lasalamandra.color}, mucho gusto.\") # IMPRIMO LA PRESENTACION\n",
    "lasalamandra.hablando()     # LLAMO A MIS METODOS (EL PRINT YA SE ENCUENTRA DENTRO DEL MÉTODO, POR ESO NO SE COLOCA DE VUELTA)\n",
    "lasalamandra.moviendose()"
   ]
  },
  {
   "cell_type": "code",
   "execution_count": 17,
   "metadata": {},
   "outputs": [
    {
     "name": "stdout",
     "output_type": "stream",
     "text": [
      "<class 'type'>\n"
     ]
    }
   ],
   "source": [
    "print(type(str))"
   ]
  },
  {
   "cell_type": "markdown",
   "metadata": {},
   "source": [
    "Herencia\n",
    "Lo que representa la herencia es que una clase hereda los atributos y métodos de otra clase. \n",
    "\n",
    "Dado que una clase hija hereda los atributos y métodos de la padre, nos puede ser muy útil cuando tengamos clases que se parecen entre sí pero tienen ciertas particularidades"
   ]
  },
  {
   "cell_type": "code",
   "execution_count": 20,
   "metadata": {},
   "outputs": [
    {
     "name": "stdout",
     "output_type": "stream",
     "text": [
      "Estoy arrastrandome\n",
      "verde sss\n"
     ]
    }
   ],
   "source": [
    "class Reptil: #Clase Padre\n",
    "    tipo = \"Reptil\"\n",
    "\n",
    "    def __init__(self, color, sonido):\n",
    "        self.color = color\n",
    "        self.sonido = sonido\n",
    "\n",
    "    def hablar  (self):\n",
    "        print(\"Buenos dias!\")\n",
    "\n",
    "    def presentarse(self):\n",
    "        print(\"Soy un animal del tipo\", self.tipo)\n",
    "\n",
    "class Serpiente(Reptil): #Clase hija\n",
    "    veneno = 10\n",
    "\n",
    "    def arrastrarse(self):\n",
    "        print(\"Estoy arrastrandome\")\n",
    "\n",
    "mi_serpiente = Serpiente(\"verde\",\"sss\")\n",
    "mi_serpiente.arrastrarse()\n",
    "#serpiente = Serpiente()\n",
    "\n",
    "print(mi_serpiente.color, mi_serpiente.sonido)\n",
    "\n"
   ]
  },
  {
   "cell_type": "markdown",
   "metadata": {},
   "source": [
    "## Challenge 🤺\n",
    "Definir una clase madre que herede a sus clases hijas dos atributos de instancia. Mostrar ambos atributos en pantalla desde los objetos de las clases hijas.\n",
    "\n",
    "Observación: Editar las clases hijas para que no se inicialicen."
   ]
  },
  {
   "cell_type": "markdown",
   "metadata": {},
   "source": [
    "Solucion Rodri :)"
   ]
  },
  {
   "cell_type": "code",
   "execution_count": 21,
   "metadata": {},
   "outputs": [
    {
     "name": "stdout",
     "output_type": "stream",
     "text": [
      "Dirijo el transito\n",
      "con un silvato de transito\n",
      "Estas detenido\n",
      "Si te resistes hare uso de la fuerza y voy a garrotearte\n"
     ]
    }
   ],
   "source": [
    "class Policia: # Clase padre\n",
    "    habilidad = \"garrotearte\" # Atributo de clase\n",
    "\n",
    "    def __init__(self, equipamiento, uniforme): # Metodo de iniciacion con los parametros de la clase apdre\n",
    "        self.equipamiento = equipamiento # Variable equipamiento\n",
    "        self.uniforme = uniforme # Variable uniforme\n",
    "    def apresar(self): # Metodo apresar de la clase padre\n",
    "        print(\"Estas detenido\") # Imprime un mensaje\n",
    "    def resistirse(self): # Metodo resistirse de la clase padre\n",
    "        print(\"Si te resistes hare uso de la fuerza y voy a\", self.habilidad) # Imprime un mensaje que incluye el atributo de clase\n",
    "mi_policia = Policia(\"\", \"\") # Crear objeto de la clase padre\n",
    "\n",
    "class Transito(Policia): # Clase hija heredada de la clase Policia\n",
    "\n",
    "    def dirigir(self): # Metodo dirigir de la clase hija\n",
    "        print(\"Dirijo el transito\") # Imprime un mensaje\n",
    "\n",
    "mi_transito = Transito(\"con un silvato\", \"de transito\") # Crear objeto de la clase hija con los valores de los parametros\n",
    "mi_transito.dirigir() # Llamar a la funcion hija con el metodo dirigir\n",
    "print(mi_transito.equipamiento, mi_transito.uniforme) # Imprimir la clase hija con los parametros heredados\n",
    "mi_policia.apresar() # Llama a la funcion padre con el metodo apresar\n",
    "mi_policia.resistirse() # Llama a la funcion padre con el metodo resistirse"
   ]
  },
  {
   "cell_type": "markdown",
   "metadata": {},
   "source": [
    "Solucion Ivan :)"
   ]
  },
  {
   "cell_type": "code",
   "execution_count": 22,
   "metadata": {},
   "outputs": [
    {
     "name": "stdout",
     "output_type": "stream",
     "text": [
      "Mi nombre es Carmela\n",
      "Mi apellido es Lopez y herede la cantidad de 50.0000.000 Usd en formato de efectivo, debido a que mi padre era Narco de nacionalidad Paraguaya\n"
     ]
    }
   ],
   "source": [
    "class Padre:\n",
    "    nacionalidad = \"Paraguaya\"\n",
    "    profesion = \"Narco\"\n",
    "\n",
    "    def __init__(self, apellido, herencia, tipo_herencia):\n",
    "        self.apellido = apellido\n",
    "        self.herencia = herencia\n",
    "        self.tipo_herencia = tipo_herencia\n",
    "\n",
    "\n",
    "class Hija(Padre):\n",
    "    nombre = \"Carmela\"\n",
    "\n",
    "    def capacidad_de_heredar(self):\n",
    "        print(f\"Mi nombre es {self.nombre}\" )\n",
    "\n",
    "\n",
    "hija1= Hija(\"Lopez\",\"50.0000.000 Usd\", \"efectivo\")\n",
    "hija1.capacidad_de_heredar()\n",
    "print(f\"Mi apellido es {hija1.apellido} y herede la cantidad de {hija1.herencia} en formato de {hija1.tipo_herencia}, debido a que mi padre era {hija1.profesion} de nacionalidad {hija1.nacionalidad}\")"
   ]
  },
  {
   "cell_type": "markdown",
   "metadata": {},
   "source": [
    "## Challenge 🤺\n",
    "Crear dos personajes de una historia que se representen a traves de clases.\n",
    "Cada personaje debe tener caracteristicas y acciones diferentes. Y deben presentarse en una frase.\n",
    "\n",
    "Ejemplo: Yo me llamo pepito y tengo super fuerza\n",
    "Ejemplo: Yo me llamo juanito y puedo volar"
   ]
  },
  {
   "cell_type": "markdown",
   "metadata": {},
   "source": [
    "Solucion de Diana :)"
   ]
  },
  {
   "cell_type": "code",
   "execution_count": 24,
   "metadata": {},
   "outputs": [
    {
     "name": "stdout",
     "output_type": "stream",
     "text": [
      "tengo la habilidad de viajar en el tiempo\n",
      "Yo soy Lia y None tengo un amigo llamado Mia que es increible para volverse invisible\n"
     ]
    }
   ],
   "source": [
    "class Personaje1: #creo mi primer personaje  traves de clase\n",
    "    def __init__(self, nombre): \n",
    "        self.nombre= nombre\n",
    "\n",
    "    def super_poder(self):\n",
    "        return \"tengo la habilidad de viajar en el tiempo\"\n",
    "\n",
    "mi_personaje1 =Personaje1(input(\"Ingrese nombre del personaje1\"))\n",
    "\n",
    "class Personaje2: #creo mi segundo personaje \n",
    "    def __init__(self, nombre2):\n",
    "        self.nombre2=nombre2\n",
    "\n",
    "    def super_poder2(self):\n",
    "        return \"increible para volverse invisible\"\n",
    "\n",
    "mi_personaje2= Personaje2(input(\"Ingrese nombre del personaje2\"))\n",
    "\n",
    "print(f\"Yo soy {mi_personaje1.nombre} y {mi_personaje1.super_poder()} tengo un amigo llamado {mi_personaje2.nombre2} que es {mi_personaje2.super_poder2()}\")"
   ]
  },
  {
   "cell_type": "code",
   "execution_count": 25,
   "metadata": {},
   "outputs": [
    {
     "name": "stdout",
     "output_type": "stream",
     "text": [
      "Yo soy Thor y me conocen como el Dios del trueno soy de nacionalidad Asgardiano mi compa es Deadpool el es de la Clase Nueva York tiene un super poder raro que es Inmortalidad, curacion avanzada\n"
     ]
    }
   ],
   "source": [
    "class Alumnos:\n",
    "    Accion = \"Presentarse\"\n",
    "\n",
    "    def __init__ (self, nombre, numero_clase):\n",
    "        self.nombre = nombre\n",
    "        self.numero_clase =  numero_clase\n",
    "    def habilidad (self, poder) :\n",
    "        self.poder = poder\n",
    "\n",
    "class Personajes(Alumnos):\n",
    "\n",
    "    def nacionalidad (self, residencia):\n",
    "        self.residencia = residencia\n",
    "\n",
    "personaje1 = Personajes(\"Thor\", \"Clase_Asgard\")\n",
    "personaje2 = Personajes(\"Deadpool\", \"Clase Nueva York\")\n",
    "personaje1.habilidad (\"Dios del trueno\")\n",
    "personaje2.habilidad(\"Inmortalidad, curacion avanzada\")\n",
    "personaje1.nacionalidad(\"Asgardiano\")\n",
    "personaje2.nacionalidad (\"Americano\")\n",
    "\n",
    "print(f\"Yo soy {personaje1.nombre} y me conocen como el {personaje1.poder} soy de nacionalidad {personaje1.residencia} mi compa es {personaje2.nombre} el es de la {personaje2.numero_clase} tiene un super poder raro que es {personaje2.poder}\")"
   ]
  },
  {
   "cell_type": "markdown",
   "metadata": {},
   "source": [
    "# Diccionario\n",
    "\n",
    "Un diccionario es una colección de pares formados por una clave y un valor asociado a la clave. Se construyen poniendo los pares entre llaves `{ }` separados por comas, y separando la clave del valor con dos puntos :.\n",
    "\n",
    "Se caracterizan por:\n",
    "\n",
    "- No tienen orden.\n",
    "- Pueden contener elementos de distintos tipos.\n",
    "- Son mutables, es decir, pueden alterarse durante la ejecución de un programa.\n",
    "- Las claves son únicas, es decir, no pueden repetirse en un mismo diccionario, y pueden ser de cualquier tipo de datos."
   ]
  },
  {
   "cell_type": "code",
   "execution_count": 36,
   "metadata": {},
   "outputs": [
    {
     "name": "stdout",
     "output_type": "stream",
     "text": [
      "{'nombre': 'Eduardo', 'apellido': 'Quinhonez', 'asistencia': True}\n",
      "{'nombre': 'Eduardo', 'apellido': 'Quinhonez', 'asistencia': True, 'direccion': 'Lambare'}\n",
      "{'nombre': 'Andres', 'apellido': 'Quinhonez', 'asistencia': True, 'direccion': 'Lambare'}\n",
      "{'nombre': 'Andres', 'apellido': 'Quinhonez', 'asistencia': True}\n",
      "{'nombre': 'Andres', 'apellido': 'Quinhonez'}\n"
     ]
    }
   ],
   "source": [
    "mi_contacto = {\"nombre\": \"Eduardo\", \"apellido\": \"Quinhonez\", \"asistencia\": True}\n",
    "\n",
    "print(mi_contacto)\n",
    "\n",
    "mi_contacto.keys() #Muestra las claves de mi diccionario\n",
    "mi_contacto.values()#Muetra los valores de mi diccionario\n",
    "mi_contacto.items()# Muesta los items de mi diccionario\n",
    "\n",
    "#Anhadir datos al diccionario\n",
    "mi_contacto[\"direccion\"] = \"Lambare\"\n",
    "\n",
    "print(mi_contacto)\n",
    "\n",
    "#Actualizar los datos\n",
    "mi_contacto[\"nombre\"] = \"Andres\"\n",
    "print(mi_contacto)\n",
    "\n",
    "#Eliminar datos del diccionario\n",
    "mi_contacto.popitem()\n",
    "print(mi_contacto)\n",
    "\n",
    "#Eliminar el dato del diccionario por su clave\n",
    "del mi_contacto[\"asistencia\"]\n",
    "print(mi_contacto)"
   ]
  },
  {
   "cell_type": "markdown",
   "metadata": {},
   "source": [
    "## Challenge 1 🤺\n",
    "Escribir un programa que cree un diccionario vacío y lo vaya llenado con información sobre una persona (por ejemplo nombre, edad, sexo, teléfono, correo electrónico, etc.) que se le pida al usuario. Cada vez que se añada un nuevo dato debe imprimirse el contenido del diccionario."
   ]
  },
  {
   "cell_type": "code",
   "execution_count": 37,
   "metadata": {},
   "outputs": [
    {
     "name": "stdout",
     "output_type": "stream",
     "text": [
      "{'nombre': 'Eduardo'}\n"
     ]
    }
   ],
   "source": [
    "datos_de_la_persona = {} #Diccionario vacio\n",
    "seguir_preguntado = True\n",
    "\n",
    "while seguir_preguntado:\n",
    "    clave = input(\"Que dato desea ingresar?\")\n",
    "    valor = input(clave + \":\")\n",
    "    datos_de_la_persona[clave] = valor\n",
    "    print(datos_de_la_persona)\n",
    "    seguir_preguntado = input(\"Queres anhadir mas informacion S/N\") == \"S\"\n"
   ]
  },
  {
   "cell_type": "markdown",
   "metadata": {},
   "source": [
    "## Challenge 2 🤺\n",
    "\n",
    "Crear una tarjeta personal. El usuario (mediante input) puede elegir:\n",
    "\n",
    "1. Crear datos nuevos\n",
    "2. Modificar datos\n",
    "3. Eliminar datos"
   ]
  },
  {
   "cell_type": "code",
   "execution_count": 39,
   "metadata": {},
   "outputs": [
    {
     "ename": "ValueError",
     "evalue": "invalid literal for int() with base 10: ''",
     "output_type": "error",
     "traceback": [
      "\u001b[0;31m---------------------------------------------------------------------------\u001b[0m",
      "\u001b[0;31mValueError\u001b[0m                                Traceback (most recent call last)",
      "\u001b[1;32m/home/penguin/Escritorio/bootcamp/dia4.ipynb Celda 33\u001b[0m in \u001b[0;36m3\n\u001b[1;32m      <a href='vscode-notebook-cell:/home/penguin/Escritorio/bootcamp/dia4.ipynb#X51sZmlsZQ%3D%3D?line=0'>1</a>\u001b[0m tarjeta \u001b[39m=\u001b[39m {\u001b[39m\"\u001b[39m\u001b[39mNombre\u001b[39m\u001b[39m\"\u001b[39m: \u001b[39m\"\u001b[39m\u001b[39mIvan Lovera\u001b[39m\u001b[39m\"\u001b[39m, \u001b[39m\"\u001b[39m\u001b[39mNro de Cuenta\u001b[39m\u001b[39m\"\u001b[39m: \u001b[39m827364823\u001b[39m, \u001b[39m\"\u001b[39m\u001b[39mNro de tarjeta\u001b[39m\u001b[39m\"\u001b[39m:\u001b[39m12323\u001b[39m}\n\u001b[0;32m----> <a href='vscode-notebook-cell:/home/penguin/Escritorio/bootcamp/dia4.ipynb#X51sZmlsZQ%3D%3D?line=2'>3</a>\u001b[0m opcion \u001b[39m=\u001b[39m \u001b[39mint\u001b[39;49m(\u001b[39minput\u001b[39;49m(\u001b[39m\"\u001b[39;49m\u001b[39mQue desea realizar? \u001b[39;49m\u001b[39m\\n\u001b[39;49;00m\u001b[39m 1. Crear datos Nuevos \u001b[39;49m\u001b[39m\\n\u001b[39;49;00m\u001b[39m 2. Modificar datos \u001b[39;49m\u001b[39m\\n\u001b[39;49;00m\u001b[39m 3. Eliminar datos 4. Salir\u001b[39;49m\u001b[39m\"\u001b[39;49m))\n\u001b[1;32m      <a href='vscode-notebook-cell:/home/penguin/Escritorio/bootcamp/dia4.ipynb#X51sZmlsZQ%3D%3D?line=3'>4</a>\u001b[0m \u001b[39mwhile\u001b[39;00m \u001b[39mTrue\u001b[39;00m:\n\u001b[1;32m      <a href='vscode-notebook-cell:/home/penguin/Escritorio/bootcamp/dia4.ipynb#X51sZmlsZQ%3D%3D?line=4'>5</a>\u001b[0m     \u001b[39mif\u001b[39;00m opcion \u001b[39m==\u001b[39m \u001b[39m1\u001b[39m:\n",
      "\u001b[0;31mValueError\u001b[0m: invalid literal for int() with base 10: ''"
     ]
    }
   ],
   "source": [
    "tarjeta = {\"Nombre\": \"Ivan Lovera\", \"Nro de Cuenta\": 827364823, \"Nro de tarjeta\":12323}\n",
    "\n",
    "opcion = int(input(\"Que desea realizar? \\n 1. Crear datos Nuevos \\n 2. Modificar datos \\n 3. Eliminar datos 4. Salir\"))\n",
    "while True:\n",
    "    if opcion == 1:\n",
    "        clave =input(\"que desea agregar?\")\n",
    "        valor = input(\"Favor ingrese el valor\")\n",
    "        tarjeta[clave] = valor\n",
    "    elif opcion== 2:\n",
    "        clave = input(\"Que dato desea modificar?\")\n",
    "        valor = input(\"Favor ingrese el nuevo valor\")\n",
    "        tarjeta[clave] = valor\n",
    "    elif opcion == 3:\n",
    "        clave = input(\"Que valor desea eliminar?\")\n",
    "        del tarjeta[clave]\n",
    "    elif opcion == 4:\n",
    "        print(\"Gracias\")\n",
    "        break\n",
    "    else:\n",
    "        print(\"El numero ingresado no es una opcion valida\")\n",
    "        opcion = int(input(\"Que desea realizar? \\n 1. Crear datos Nuevos \\n 2. Modificar datos \\n 3. Eliminar datos 4. Salir\"))\n",
    "\n",
    "\n",
    "print(tarjeta)"
   ]
  }
 ],
 "metadata": {
  "kernelspec": {
   "display_name": "Python 3",
   "language": "python",
   "name": "python3"
  },
  "language_info": {
   "codemirror_mode": {
    "name": "ipython",
    "version": 3
   },
   "file_extension": ".py",
   "mimetype": "text/x-python",
   "name": "python",
   "nbconvert_exporter": "python",
   "pygments_lexer": "ipython3",
   "version": "3.10.12"
  },
  "orig_nbformat": 4
 },
 "nbformat": 4,
 "nbformat_minor": 2
}
